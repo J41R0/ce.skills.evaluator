{
 "nbformat": 4,
 "nbformat_minor": 0,
 "metadata": {
  "kernelspec": {
   "display_name": "Python 3",
   "language": "python",
   "name": "python3"
  },
  "language_info": {
   "codemirror_mode": {
    "name": "ipython",
    "version": 3
   },
   "file_extension": ".py",
   "mimetype": "text/x-python",
   "name": "python",
   "nbconvert_exporter": "python",
   "pygments_lexer": "ipython3",
   "version": "3.7.3"
  },
  "pycharm": {
   "stem_cell": {
    "cell_type": "raw",
    "source": [],
    "metadata": {
     "collapsed": false
    }
   }
  },
  "colab": {
   "name": "Evaluation model.ipynb",
   "provenance": [],
   "collapsed_sections": [
    "Mwa4zEnoWSLW",
    "ilIwUxVHWSLW",
    "Wlsrw-hRWSLX",
    "iQgyzR59WSLY",
    "7_5__GtPWSLZ",
    "-SUQdINLWSLh",
    "GMlTbFdsWSLn",
    "ZTITTBALWSLs",
    "zDvtfe1GWSLw"
   ]
  }
 },
 "cells": [
  {
   "cell_type": "markdown",
   "metadata": {
    "id": "4uddlfJZWSKt"
   },
   "source": [
    "# Skills evaluator math model"
   ]
  },
  {
   "cell_type": "markdown",
   "metadata": {
    "id": "AvuZwCYOWSLD"
   },
   "source": [
    "## Problem description"
   ]
  },
  {
   "cell_type": "markdown",
   "metadata": {
    "id": "R8B_WhodWSLE"
   },
   "source": [
    "It's required to provide the evaluation of an engineer's skills for Cuban Engineer platform users. The skills evaluation process use the data extracted from Cuban Engineer providers to use only verified data. Since the most important sources provide custom skill measures, it's required to process all provider's data. As well as to merge redundant skills data, summarize the output in a single score per skill, and infer skills that are not explicitly provided."
   ]
  },
  {
   "cell_type": "markdown",
   "metadata": {
    "id": "JT5EqXzSWSLE"
   },
   "source": [
    "### Objectives"
   ]
  },
  {
   "cell_type": "markdown",
   "metadata": {
    "id": "oOQD12B4WSLF"
   },
   "source": [
    "* Provide a fair engineer skills evaluation \n",
    "* Preprocess input data according to each provider API \n",
    "* Build a summarized evaluation model with all the engineer's skills extracted from different providers\n",
    "* Infer verified but not explicitly provided skills from the data"
   ]
  },
  {
   "cell_type": "markdown",
   "metadata": {
    "id": "0yivraoDWSLF"
   },
   "source": [
    "### Hypothesis"
   ]
  },
  {
   "cell_type": "markdown",
   "metadata": {
    "id": "67m-lkccWSLG"
   },
   "source": [
    "All **Cuban Engineer** platform users are mainly software related professionals, so they must have a set of related skills and will have published pieces of information about their skills in several public sources. "
   ]
  },
  {
   "cell_type": "markdown",
   "metadata": {
    "id": "G_al82MNWSLG"
   },
   "source": [
    "### Objects description and acquired data"
   ]
  },
  {
   "cell_type": "markdown",
   "metadata": {
    "id": "nI0goFXbWSLH"
   },
   "source": [
    "For the evaluation process the **Objects** are the Cuban Engineer user's data from each provider.\n",
    "\n",
    "The current providers are: \n",
    "* GitHub\n",
    "* GitLab\n",
    "* StackExchange\n"
   ]
  },
  {
   "cell_type": "markdown",
   "metadata": {
    "pycharm": {
     "name": "#%% md\n"
    },
    "id": "MVK7d9JHWSLH"
   },
   "source": [
    "#### GitHub"
   ]
  },
  {
   "cell_type": "markdown",
   "metadata": {
    "pycharm": {
     "name": "#%% md\n"
    },
    "id": "L461LShUWSLI"
   },
   "source": [
    "It's a VCS for developers that stores code statistics and user's collaborative behaviour.\n",
    "\n",
    "**Provided data**\n",
    "\n",
    "* **User followers**: User followers count. An integer value.\n",
    "* **A set of repositories**: Each repository has a set of code statistics.\n",
    "* **Repository id**: An identifier.\n",
    "* **Repository forked**: Define if the repository is forked or not. Boolean value.\n",
    "* **Repository contributors**: Amount of project contributors. An integer value.\n",
    "* **Repository stars**: Amount of project stars. An integer value.\n",
    "* **Repository forks**: Amount of project forks. An integer value.\n",
    "* **Repository views**: Amount of project views. An integer value.\n",
    "* **Repository total commits**: Amount of project commits. An integer value.\n",
    "* **Repository user commits**: Amount of user commits. An integer value.\n",
    "* **Repository total additions**: Amount of bytes of code added to the project. An integer value.\n",
    "* **Repository user additions**: Amount of bytes of code added by the user. An integer value.\n",
    "* **A set of skills**: Programming languages or scripts used in each repository named Skill in this context.\n",
    "* **Skill repository id**: A repository identifier reference.\n",
    "* **Skill name**: Programming language or script used. A string value.\n",
    "* **Skill value**: Amount of bytes of code for that programming language or script used. An integer value.\n"
   ]
  },
  {
   "cell_type": "markdown",
   "metadata": {
    "pycharm": {
     "name": "#%% md\n"
    },
    "id": "IL4wn5b4WSLI"
   },
   "source": [
    "#### GitLab"
   ]
  },
  {
   "cell_type": "markdown",
   "metadata": {
    "pycharm": {
     "name": "#%% md\n"
    },
    "id": "1RzcstjBWSLJ"
   },
   "source": [
    "It's a VCS for developers that stores code statistics and user's collaborative behaviour \n",
    "\n",
    "**Provided data**\n",
    "* **User followers**: User followers count. An integer value.\n",
    "* **A set of repositories**: Each repository has a set of code statistics.\n",
    "* **Repository id**: An identifier.\n",
    "* **Repository forked**: Define if the repository is forked or not. Boolean value.\n",
    "* **Repository contributors**: Amount of project contributors. An integer value.\n",
    "* **Repository stars**: Amount of project stars. An integer value.\n",
    "* **Repository forks**: Amount of project forks. An integer value.\n",
    "* **Repository views**: Amount of project views. An integer value.\n",
    "* **Repository total commits**: Amount of project commits. An integer value.\n",
    "* **Repository user commits**: Amount of user commits. An integer value.\n",
    "* **A set of skills**: Programming languages or scripts used in each repository named Skill in this context.\n",
    "* **Skill repository id**: A repository identifier reference.\n",
    "* **Skill name**: Programming language or script used. A string value.\n",
    "* **Skill value**: Amount of bytes of code for that programming language or script used, a float value. It's required to denote that this value is obtained with the amount of bytes of the whole project multiplied by the percent of skill present in that project, for that reason it's required a noise reduction step in the skill evaluation process.  \n"
   ]
  },
  {
   "cell_type": "markdown",
   "metadata": {
    "pycharm": {
     "name": "#%% md\n"
    },
    "id": "QUtBipwsWSLJ"
   },
   "source": [
    "#### StackExchange"
   ]
  },
  {
   "cell_type": "markdown",
   "metadata": {
    "pycharm": {
     "name": "#%% md\n"
    },
    "id": "Hwm8bF1PWSLK"
   },
   "source": [
    "It's a Questions-Answers platform to share knowledge between the users\n",
    "\n",
    "**Provided data**\n",
    "\n",
    "* **User reputation**: It's a rough measurement of how much the community trusts in the user.\n",
    "* **A set of skills (Tags)**: A tag is a keyword or label that categorizes your question with other similar questions, but it usually represents the main topic and certain related skill. This information is provided by the StackExchange API and not in the input data. \n",
    "* **Skill name**: Tag name inside of the platform.\n",
    "* **Skill score**: Score of the user in that tag.\n"
   ]
  },
  {
   "cell_type": "markdown",
   "metadata": {
    "id": "O_bCm6KZWSLK"
   },
   "source": [
    "### Expected results and evaluation"
   ]
  },
  {
   "cell_type": "markdown",
   "metadata": {
    "id": "FOD2_MOJWSLK"
   },
   "source": [
    "The output is a set of evaluated skills for each Cuban Engineer user that complies with the following requirements: \n",
    "\n",
    "* The skill value represents the user's final score for each data provider\n",
    "* The skills value output must be scaled to the user's desired range of values\n",
    "* New non-explicit skills can be inferred from the input data\n",
    "* A final skills evaluation is provided to summarize the information from each provider    \n",
    "\n",
    "The evaluated result must be tested with a data set extracted from known users of the platform. The test set will not provide an evaluation value, instead it will sort the engineers according to several skills and an overall evaluation. The evaluator result should have a similar output when the values are sorted in the same way that the test set. This process will define the evaluation algorithm quality."
   ]
  },
  {
   "cell_type": "markdown",
   "metadata": {
    "id": "PAVKTjx_WSLL"
   },
   "source": [
    "## Problem formalization"
   ]
  },
  {
   "cell_type": "markdown",
   "metadata": {
    "id": "I-ajuCXKWSLL"
   },
   "source": [
    "### Objectives formalization"
   ]
  },
  {
   "cell_type": "markdown",
   "metadata": {
    "id": "sCXSKD09WSLM"
   },
   "source": [
    "The algorithm must use the data from different providers to estimate how good an engineer is in a set of skills explicit or not in provided data. To achieve this goal, several processing steps are required: \n",
    "\n",
    "* **Name homogenization**: Transform the skills name to a single structure due to different providers may name the same skill in different ways (e.g. 'C++' and 'Cpp').\n",
    "* **Input value determination**: The skill's input value is required from each provider. Could be a single value (e.g. StackExchange's score) or a linear combination of values (e.g. a GitHub project data).\n",
    "* **Value normalization**: Transform the skill value from different providers to the same numerical scale to allow a more precise comparison between input values.\n",
    "* **Skill inference**: Using the data provided infer non-explicit skills and their evaluation keeping in mind that inferred skills must be known by the user, so concepts like probability or correlation must not be used in the inference process.  \n",
    "* **Result merging**: Since some providers have a project structured data, it's required to process and summarize the data of each project to achieve a final provider evaluation. The same is required to define an user's final skill evaluation using the result of the different providers. It's required to define the merge process between projects and providers to achieve a summarized and fair evaluation result."
   ]
  },
  {
   "cell_type": "markdown",
   "metadata": {
    "id": "k7OgNHtRWSLN"
   },
   "source": [
    "### Data representation"
   ]
  },
  {
   "cell_type": "markdown",
   "metadata": {
    "id": "dR_RyESpWSLO"
   },
   "source": [
    "The input data for each user is structured in a JSON format like the following example:"
   ]
  },
  {
   "cell_type": "code",
   "metadata": {
    "id": "BOV24ipzWSLO"
   },
   "source": [
    "input_json = \"\"\"\n",
    "{\n",
    "    \"name\": \"John Doe\",\n",
    "    \"nick\": \"JohnDoe\",\n",
    "    \"email\": \"johndoe@gmail.com\",\n",
    "    \"profiles\": [\n",
    "        {\n",
    "            \"provider\": \"STACK_EXCHANGE\",\n",
    "            \"stats\": {\n",
    "                \"reputation\": 7849\n",
    "            },\n",
    "            \"skills\": [\n",
    "                {\n",
    "                    \"repositoryId\": 0,\n",
    "                    \"name\": \"angular\",\n",
    "                    \"value\": 523.0\n",
    "                },\n",
    "                {\n",
    "                    \"repositoryId\": 0,\n",
    "                    \"name\": \"unit-testing\",\n",
    "                    \"value\": 20.0\n",
    "                },\n",
    "                {\n",
    "                    \"repositoryId\": 0,\n",
    "                    \"name\": \"chromium\",\n",
    "                    \"value\": 36.0\n",
    "                },\n",
    "                {\n",
    "                    \"repositoryId\": 0,\n",
    "                    \"name\": \"docker\",\n",
    "                    \"value\": 12.0\n",
    "                },\n",
    "                {\n",
    "                    \"repositoryId\": 0,\n",
    "                    \"name\": \"gitlab\",\n",
    "                    \"value\": 1.0\n",
    "                },\n",
    "                {\n",
    "                    \"repositoryId\": 0,\n",
    "                    \"name\": \"highcharts\",\n",
    "                    \"value\": 41.0\n",
    "                },\n",
    "                {\n",
    "                    \"repositoryId\": 0,\n",
    "                    \"name\": \"intellij-idea\",\n",
    "                    \"value\": 19.0\n",
    "                },\n",
    "                {\n",
    "                    \"repositoryId\": 0,\n",
    "                    \"name\": \"java\",\n",
    "                    \"value\": 178.0\n",
    "                },\n",
    "                {\n",
    "                    \"repositoryId\": 0,\n",
    "                    \"name\": \"javascript\",\n",
    "                    \"value\": 1124.0\n",
    "                },\n",
    "                {\n",
    "                    \"repositoryId\": 0,\n",
    "                    \"name\": \"matplotlib\",\n",
    "                    \"value\": 1.0\n",
    "                },\n",
    "                {\n",
    "                    \"repositoryId\": 0,\n",
    "                    \"name\": \"python\",\n",
    "                    \"value\": 7.0\n",
    "                },\n",
    "                {\n",
    "                    \"repositoryId\": 0,\n",
    "                    \"name\": \"rest\",\n",
    "                    \"value\": 89.0\n",
    "                }\n",
    "            ]\n",
    "        },\n",
    "        {\n",
    "            \"provider\": \"GITHUB\",\n",
    "            \"stats\": {\n",
    "                \"followers\": \"2\"\n",
    "            },\n",
    "            \"repositories\": [\n",
    "                {\n",
    "                    \"id\": 1,\n",
    "                    \"isFork\": false,\n",
    "                    \"contributors\": 1,\n",
    "                    \"totalCommits\": 809,\n",
    "                    \"userCommits\": 413,\n",
    "                    \"forks\": 0,\n",
    "                    \"stars\": 0,\n",
    "                    \"views\": 0,\n",
    "                    \"userAdditions\": 175800,\n",
    "                    \"totalAdditions\": 297600\n",
    "                },\n",
    "                {\n",
    "                    \"id\": 2,\n",
    "                    \"isFork\": false,\n",
    "                    \"contributors\": 0,\n",
    "                    \"totalCommits\": 697,\n",
    "                    \"userCommits\": 697,\n",
    "                    \"forks\": 38,\n",
    "                    \"stars\": 143,\n",
    "                    \"views\": 83,\n",
    "                    \"userAdditions\": 33486,\n",
    "                    \"totalAdditions\": 33486\n",
    "                }\n",
    "            ],\n",
    "            \"skills\": [\n",
    "                {\n",
    "                    \"repositoryId\": 1,\n",
    "                    \"name\": \"Java\",\n",
    "                    \"value\": 297600.0\n",
    "                },\n",
    "                {\n",
    "                    \"repositoryId\": 2,\n",
    "                    \"name\": \"JavaScript\",\n",
    "                    \"value\": 24444.0\n",
    "                },\n",
    "                {\n",
    "                    \"repositoryId\": 2,\n",
    "                    \"name\": \"HTML\",\n",
    "                    \"value\": 5357.0\n",
    "                },\n",
    "                {\n",
    "                    \"repositoryId\": 2,\n",
    "                    \"name\": \"CSS\",\n",
    "                    \"value\": 2344.0\n",
    "                }\n",
    "            ]\n",
    "        },\n",
    "        {\n",
    "            \"provider\": \"GITLAB\",\n",
    "            \"stats\": {},\n",
    "            \"repositories\": [\n",
    "                {\n",
    "                    \"id\": 1,\n",
    "                    \"isFork\": true,\n",
    "                    \"contributors\": 0,\n",
    "                    \"totalCommits\": 1025,\n",
    "                    \"userCommits\": 0,\n",
    "                    \"forks\": 0,\n",
    "                    \"stars\": 0,\n",
    "                    \"views\": 0\n",
    "                },\n",
    "                {\n",
    "                    \"id\": 2,\n",
    "                    \"isFork\": false,\n",
    "                    \"contributors\": 0,\n",
    "                    \"totalCommits\": 1250,\n",
    "                    \"userCommits\": 789,\n",
    "                    \"forks\": 40,\n",
    "                    \"stars\": 168,\n",
    "                    \"views\": 75\n",
    "                }\n",
    "            ],\n",
    "            \"skills\": [\n",
    "                {\n",
    "                    \"repositoryId\": 1,\n",
    "                    \"name\": \"C++\",\n",
    "                    \"value\": 1195539.49\n",
    "                },\n",
    "                {\n",
    "                    \"repositoryId\": 1,\n",
    "                    \"name\": \"CMake\",\n",
    "                    \"value\": 251494.5\n",
    "                },\n",
    "                {\n",
    "                    \"repositoryId\": 2,\n",
    "                    \"name\": \"Java\",\n",
    "                    \"value\": 963216.55\n",
    "                },\n",
    "                {\n",
    "                    \"repositoryId\": 2,\n",
    "                    \"name\": \"HTML\",\n",
    "                    \"value\": 1546.45\n",
    "                }\n",
    "            ]\n",
    "        }\n",
    "    ]\n",
    "}\n",
    "\"\"\"\n"
   ],
   "execution_count": null,
   "outputs": []
  },
  {
   "cell_type": "markdown",
   "metadata": {
    "id": "t_8xs2JDWSLT"
   },
   "source": [
    "The JSON format follows the data description provided before. The GitLab provided skill 'value' definition is described below. "
   ]
  },
  {
   "cell_type": "markdown",
   "metadata": {
    "id": "MOg6pQT6WSLV"
   },
   "source": [
    "### Data properties"
   ]
  },
  {
   "cell_type": "markdown",
   "metadata": {
    "id": "YPzV2-czWSLV"
   },
   "source": [
    "As denoted in the previous section, each provider has distinct data that must be processed independently. For that reason it's required to describe the data properties for each provider. Since each provider's data is described in a previous section, this section will be focused on the main differences between them.\n"
   ]
  },
  {
   "cell_type": "markdown",
   "metadata": {
    "pycharm": {
     "name": "#%% md\n"
    },
    "id": "Mwa4zEnoWSLW"
   },
   "source": [
    "#### GitHub"
   ]
  },
  {
   "cell_type": "markdown",
   "metadata": {
    "pycharm": {
     "name": "#%% md\n"
    },
    "id": "SNYBBVZnWSLW"
   },
   "source": [
    "The data describes user code stats related to a set of projects. Also, each project has a set of related skills. Next, the meaning of the most important fields in the problem context are presented as:\n",
    "\n",
    "* **User followers**: A good programmer should have more followers but is not an assurance.\n",
    "* **Repository forked**: A forked project means that the main ideas of the project are not from the user and could be used to reduce the relevance of the project for the user.\n",
    "* **Repository contributors**: A project with more contributors means that it is a team project, but user contributions are not as relevant as individual projects due to project commits are not only from the user.\n",
    "* **Repository stars**: Usually, a good project is rated by other users, increasing the project relevance.\n",
    "* **Repository forks**: A project with interesting ideas is usually forked by other users increasing the project relevance.\n",
    "* **Repository views**: Users interested in the project behaviour and evolution use the views to keep track of it. \n",
    "* **Repository user commits**: A mature project should have more commits from the user. This value can be used to get an idea about the user's contributions to the project.\n",
    "* **Repository user additions**: Measure the amount of bytes of code added by the user.\n",
    "* **Skill value**:  Value of a repository related skill, it is defined by the API.\n",
    "\n",
    "All the described repository fields can be used to define the relevance of the project and user contributions to it. All the information is obtained using GitHub API from the user's public repositories."
   ]
  },
  {
   "cell_type": "markdown",
   "metadata": {
    "id": "ilIwUxVHWSLW"
   },
   "source": [
    "#### GitLab"
   ]
  },
  {
   "cell_type": "markdown",
   "metadata": {
    "id": "M7qzYmXtWSLX"
   },
   "source": [
    "The data describes user code stats related to a set of projects. Also, each project has a set of related skills. Next, the meaning of the most important fields in the problem context are presented as:\n",
    "\n",
    "* **User followers**: A good engineer should have more followers but is not a quality assurance.\n",
    "* **Repository forked**: A forked project means that the main ideas of the project are not from the user and could be used to fit the relevance of the project for the user.\n",
    "* **Repository contributors**: A project with more contributors means that it is a team project, but user contributions are not as relevant as individual projects due to project commits are not only from the user.\n",
    "* **Repository stars**: Usually, a good project is rated by other users, increasing the project relevance.\n",
    "* **Repository forks**: A project with interesting ideas is usually forked by other users increasing the project relevance.\n",
    "* **Repository Views**: Users interested in the project behaviour and evolution use the views to keep track of it. \n",
    "* **Repository user commits**: A mature project should have more commits from the user. This value can be used to get an idea about the user's contributions to the project.\n",
    "* **Skill value**:  Value of a repository related skill. It's the relation between the user contributions (commits), the skill usage percent and the repository used space in bytes, all values provided by GitLab API.\n",
    "\n",
    "All the  described repository fields can be used to define the relevance of the project and user contributions to it.\n"
   ]
  },
  {
   "cell_type": "markdown",
   "metadata": {
    "pycharm": {
     "name": "#%% md\n"
    },
    "id": "Wlsrw-hRWSLX"
   },
   "source": [
    "#### StackExchange"
   ]
  },
  {
   "cell_type": "markdown",
   "metadata": {
    "pycharm": {
     "name": "#%% md\n"
    },
    "id": "sRgDom_6WSLX"
   },
   "source": [
    "The data describes the user's activity inside the platform. The skills of the user are identified using the tags inside the platform. Next, the meaning of most important fields in the problem context are presented as:\n",
    "\n",
    "* **User reputation**: A higher skilled person should have a higher reputation.This is also is a way to measure the trust of others.\n",
    "* **Skill name**: The skill definition that should be correlated with synonyms if it has them. \n",
    "* **Skill score**: The punctuation provided by the platform in answers related to a skill (tag). A skilled user will have a higher score evaluation.\n",
    " "
   ]
  },
  {
   "cell_type": "markdown",
   "metadata": {
    "id": "9NB42IPpWSLX"
   },
   "source": [
    "## Solution strategy"
   ]
  },
  {
   "cell_type": "markdown",
   "metadata": {
    "id": "6Fv_1qVJWSLY"
   },
   "source": [
    "Based on provided problem description, it's required to define a solution model. The problem has the following information levels in the evaluation process:\n",
    "\n",
    "* **Project**: The data about a project for project structured providers\n",
    "* **Provider**: Provider data or projects summarization for project structured providers\n",
    "* **User**: The user-level summarizes the data from each provider to achieve a final result\n",
    "\n",
    "To provide an accurate solution, it's required to process the data in a bottom-up data flow making a partial evaluation until the final (user) level."
   ]
  },
  {
   "cell_type": "markdown",
   "metadata": {
    "id": "SP-7-pyJWSLY"
   },
   "source": [
    "### Problem formalization"
   ]
  },
  {
   "cell_type": "markdown",
   "metadata": {
    "id": "iQgyzR59WSLY"
   },
   "source": [
    "In **Cuban Engineer** platform it's required to find non-explicit skills and evaluate all of them using the data from stored providers as input data. Since **Cuban Engineer** platform does not have a previously evaluated set of users, a supervised learning approach can not be used. Also, all the system data is required to be updated with the new skills. Relations between them change frequently and the relations between explicit and non-explicit skills are not contained in a centralized data source. \n",
    "\n",
    "*To provide a solution to the problem it's decided to use a knowledge-based approach where the skills and their relations are represented in a knowledge base that can be used to evaluate and infer non explicit skills.* \n",
    "\n",
    "To represent knowledge, there are several structures such as rules, frames and networks. The main drawback about rules and frames is related to the knowledge base size, due to a big knowledge base being very complicated to maintain and when a knowledge base achieves more than 100 rules is recommended to change the knowledge representation structure. In this problem, the complexity of the knowledge base is unknown and needs to be frecuently updated. \n",
    "\n",
    "The network's approach, also named graph approach, is easier to maintain, due to it not being required to know and understand the whole system's behaviour and the expected result can be achieved by updating a sub-graph in the model. For this approach, two of the most relevant methods are the Bayesian Networks and the Fuzzy Cognitive Maps. The Bayesian Networks are represented as Trees, so a common base concept that is related with two other concepts must be repeated in the structure, making the knowledge base size bigger. Also, the concept represented in the edges is probability and in the current problem's context, the skill knowledge assurance is required and not the probability that the user knows something. On the other hand, the Fuzzy Cognitive Maps is a digraph structured knowledge base that represents causality and the knowledge base maintaining process is more simple than other structures. \n",
    "\n",
    "*For this problem Fuzzy Cognitive Maps will be used to represent the knowledge base and solve the problem described*\n",
    "\n",
    "#### Fuzzy Cognitive Maps (FCM)\n",
    "\n",
    "Mathematically it can be defined as the 4-tuple $(C,W,A,f)$, where:\n",
    "\n",
    "* $C=(c_1,c_2,c_3, ~...~ c_n)$ is the set of nodes of the graph\n",
    "* $W:(c_i,c_j)\\to w_{ij}$ is the function that determines the value of the causal relation between the nodes $c_i$ and $c_j$\n",
    "* $A:(c_i,t) \\to A^t_i, A \\in R$ is the function used to determine the activation degree of each system concept over time $t=(1,2,3, ~...~T)$\n",
    "* $f \\in [-1, 1]$ is the function used to limit each concept activation range in a desired interval $[-1, 1]$\n",
    "\n",
    "Structurally a FCM can be represented as a digraph where the value of the causal relation between two nodes $c_i$ and $c_j$ is represented in component $w_{ij}$ that belongs to weight matrix $W$. \n",
    "\n",
    "The FCM's inference process is the propagation of each node weight to his neighbours over time. This process may be endless because the FCM topology may contain loops like a recurrent neural network. For this reason, two stop criteria are defined, a maximum number of iterations $T$ and a minimum difference between nodes vector $\\alpha$ in the times $t$ y $t+1$. The inference process is summarized in the following equation. \n",
    "$$$$\n",
    "$$A^{(t+1)}_i = f\\left(\\sum_{j=1}^N w_{ij}*A^{(t)}_j \\right) , i \\neq j$$\n",
    "\n",
    "In the current problem context, the FCM will represent the skills as the map concepts and the relations between skills as the edges. A verified skill value will be set and transformed to corresponding concept initial activation value. After all initial values are set the inference process will be executed until a stop criteria is fulfilled. Finally, the greatest activation value of each node is selected as the evaluation for the user skills. The nodes with an activation value greater than zero are the user final skills and corresponding activation value will be the skill evaluation."
   ]
  },
  {
   "cell_type": "markdown",
   "metadata": {
    "id": "dKjhizn0WSLY"
   },
   "source": [
    "### Processing model"
   ]
  },
  {
   "cell_type": "markdown",
   "metadata": {
    "id": "1B3glHKRWSLZ"
   },
   "source": [
    "The algorithm will take as input a JSON object with the same structure as *Data representation* section example. The evaluation and inference process will be carried out in several steps. The experts will build a single knowledge base to represent the skills that the user may have and the relations between them. According to the information levels described above and the provider's structure, several processing steps are required, but all steps are executed with the same knowledge base. \n",
    "To move the information from a level to the next one, it's required to merge the current level data. Also to provide a project-based provider evaluation, it's required to merge the inference result from the contained projects and run the inference process again, because new results may appear. The same process must be done in the user level, to provide a final user skills evaluation. "
   ]
  },
  {
   "cell_type": "markdown",
   "metadata": {
    "id": "7_5__GtPWSLZ"
   },
   "source": [
    "#### FCM parameters selection "
   ]
  },
  {
   "cell_type": "markdown",
   "metadata": {
    "id": "QWYrClmZWSLZ"
   },
   "source": [
    "Previously, a brief FCM description was provided, but to use the algorithm, it's required to define the specific behaviour in the problem context. To execute all the defined processing steps, it's required to use a tool that allows to load a knowledge base, execute the inference process and merge different maps in a new single structure. For that purpose, the library Py-FCM can be used."
   ]
  },
  {
   "cell_type": "markdown",
   "metadata": {
    "id": "YapxWwgbWSLZ"
   },
   "source": [
    "##### Install Py-FCM and define used params"
   ]
  },
  {
   "cell_type": "code",
   "metadata": {
    "id": "aiV9gZJuWSLZ",
    "colab": {
     "base_uri": "https://localhost:8080/"
    },
    "executionInfo": {
     "status": "ok",
     "timestamp": 1612027931548,
     "user_tz": 300,
     "elapsed": 6656,
     "user": {
      "displayName": "Jairo Lefebre",
      "photoUrl": "https://lh3.googleusercontent.com/a-/AOh14Gi61js21nBKf-dibWFiPIrDxJnRUovIEtuBZAp-=s64",
      "userId": "07372826646696628377"
     }
    },
    "outputId": "5b378b6a-8afe-4c43-f7ac-05892c8668ff"
   },
   "source": [
    "# install script\n",
    "import sys\n",
    "import subprocess\n",
    "subprocess.check_call([sys.executable, \"-m\", \"pip\", \"install\", 'py-fcm'])"
   ],
   "execution_count": null,
   "outputs": [
    {
     "output_type": "execute_result",
     "data": {
      "text/plain": [
       "0"
      ]
     },
     "metadata": {
      "tags": []
     },
     "execution_count": 2
    }
   ]
  },
  {
   "cell_type": "markdown",
   "metadata": {
    "id": "WZ2lW36ZWSLa"
   },
   "source": [
    "The Py-FCM library provides several parameters to define FCM behaviour:\n",
    "\n",
    "* Maximum iterations: max_it=200\n",
    "* Stability difference: stab_diff=0.001\n",
    "* Use concepts memory: mem_influence=False\n",
    "* Decision function: decision_function=\"EXITED\"\n",
    "* Default activation function: activ_function=\"sigmoid_hip\"\n",
    "\n",
    "**Params detailed description:**\n",
    "\n",
    "*max_it*: It's recommended to set max_it in a value greater than 100 to allow the map reach a stabilized state, but if the value is too big and a stable state is not reached then the inference process will be longer.\n",
    "\n",
    "*stab_diff*: It's recommended to set a value lower than 0.1 to allow the map reach a true stabilized state a greater value could mislead to a false stable state and a not desired solution. Also, it's not recommended to set a value too small when using an asymptotic function like sigmoid or a logarithmic-based function, due to it taking more time to achieve that state's difference and the inference process will be longer.\n",
    "\n",
    "*mem_influence*: Define if the current concept value is used or not in the next iteration. In the problem context,  must be set as *False* (default value) to prevent noise in the results. E.g. if one skill is set to a value $x$ as initial state and is influenced in $y$ by other skill in the next iteration, the concept value will be $x+y$ and may continue growing during the inference process. \n",
    "\n",
    "*decision_function*: At the end of the inference process it's required to define the way to select the concept (skill) value according to its behaviour. Py-FCM allows three ways to define the final result: *average* (by default), *last*, and *exited*. In problem context, *exited* must be used to select the highest concept value during the inference process. This selection, together with no use of memory influence, will allow achieving a fair skill final evaluation. \n",
    "\n",
    "*activ_function*: In the problem context, the skills are evaluated using data from providers, so there is a limit to how much can be extracted from the data and also from the knowledge base about some skill. The best way to represent this behaviour is by using an asymptotic function. Py-FCM allows using two different asymptotic functions: *sigmoid* and *sigmoid_hip* (by default) that most simply are represented like:"
   ]
  },
  {
   "cell_type": "code",
   "metadata": {
    "id": "dPPTKdD7WSLa",
    "colab": {
     "base_uri": "https://localhost:8080/",
     "height": 265
    },
    "executionInfo": {
     "status": "ok",
     "timestamp": 1612027932348,
     "user_tz": 300,
     "elapsed": 7438,
     "user": {
      "displayName": "Jairo Lefebre",
      "photoUrl": "https://lh3.googleusercontent.com/a-/AOh14Gi61js21nBKf-dibWFiPIrDxJnRUovIEtuBZAp-=s64",
      "userId": "07372826646696628377"
     }
    },
    "outputId": "fa822c32-e62d-41bf-beb6-2055f9d86875"
   },
   "source": [
    "import numpy as np\n",
    "import matplotlib.pyplot as plt\n",
    "\n",
    "from py_fcm import functions\n",
    "\n",
    "# sigmoid function plot\n",
    "result = []\n",
    "zero = []\n",
    "x = np.arange(-7., 7., 0.2)\n",
    "for value in x:\n",
    "    zero.append(0)\n",
    "    result.append(functions.Activation.sigmoid(value))\n",
    "\n",
    "plt.plot(x,result)\n",
    "plt.plot(x,zero)\n",
    "plt.show()"
   ],
   "execution_count": null,
   "outputs": [
    {
     "output_type": "display_data",
     "data": {
      "image/png": "[encoded data removed]",
      "text/plain": [
       "<Figure size 432x288 with 1 Axes>"
      ]
     },
     "metadata": {
      "tags": [],
      "needs_background": "light"
     }
    }
   ]
  },
  {
   "cell_type": "markdown",
   "metadata": {
    "id": "-I1D8qooWSLc"
   },
   "source": [
    "As observed, the *sigmoid* function is in $(0,1)$ range of values. But, the most important thing is that the function value for a $0$ input is a $0.5$ output which means, in the problem context, that one skill with a $0$ (not provided information about it) evaluation will have at least a $0.5$ final evaluation, a really noisy skill evaluation."
   ]
  },
  {
   "cell_type": "code",
   "metadata": {
    "id": "VtpctX_VWSLc",
    "colab": {
     "base_uri": "https://localhost:8080/",
     "height": 265
    },
    "executionInfo": {
     "status": "ok",
     "timestamp": 1612027932350,
     "user_tz": 300,
     "elapsed": 7426,
     "user": {
      "displayName": "Jairo Lefebre",
      "photoUrl": "https://lh3.googleusercontent.com/a-/AOh14Gi61js21nBKf-dibWFiPIrDxJnRUovIEtuBZAp-=s64",
      "userId": "07372826646696628377"
     }
    },
    "outputId": "07b598ac-d324-4f2c-d2a1-3775de595616"
   },
   "source": [
    "# sigmoid function plot\n",
    "result = []\n",
    "x = np.arange(-5., 5., 0.2)\n",
    "zero = []\n",
    "for value in x:\n",
    "    zero.append(0)\n",
    "    result.append(functions.Activation.sigmoid_hip(value))\n",
    "    \n",
    "plt.plot(x,result)\n",
    "plt.plot(x,zero)\n",
    "plt.show()"
   ],
   "execution_count": null,
   "outputs": [
    {
     "output_type": "display_data",
     "data": {
      "image/png": "[encoded data removed]",
      "text/plain": [
       "<Figure size 432x288 with 1 Axes>"
      ]
     },
     "metadata": {
      "tags": [],
      "needs_background": "light"
     }
    }
   ]
  },
  {
   "cell_type": "markdown",
   "metadata": {
    "id": "cJkYKkt7WSLd"
   },
   "source": [
    "On the other hand, the *sigmoid_hip* function shows a more natural behaviour in the problem context and allows it to work with negative evaluations due to the output value is in $(-1,1)$ range. The *sigmoid_hip* function is selected as the FCM activation function. "
   ]
  },
  {
   "cell_type": "markdown",
   "metadata": {
    "id": "dYJtQRTrWSLd"
   },
   "source": [
    "##### Define the knowledge base"
   ]
  },
  {
   "cell_type": "markdown",
   "metadata": {
    "id": "1VubcwCVWSLd"
   },
   "source": [
    "Py-FCM allows it to load a knowledge base previously defined and structured in a JSON format like shown the following example. The knowledge base presented is a simplified version that is used in the current problem to show the data's behaviour during the processing pipeline. "
   ]
  },
  {
   "cell_type": "code",
   "metadata": {
    "id": "iVZ7ANiqWSLe"
   },
   "source": [
    "knowledge_base = \"\"\"\n",
    "{\n",
    "  \"max_iter\": 500,\n",
    "  \"activation_function\": \"sigmoid_hip\",\n",
    "  \"memory_influence\": false,\n",
    "  \"decision_function\": \"EXITED\",\n",
    "  \"concepts\": [\n",
    "    {\n",
    "      \"id\": \"QMAKE\",\n",
    "      \"type\": \"SIMPLE\"\n",
    "    },\n",
    "    {\n",
    "      \"id\": \"QML\",\n",
    "      \"type\": \"SIMPLE\"\n",
    "    },\n",
    "    {\n",
    "      \"id\": \"SHELL\",\n",
    "      \"type\": \"SIMPLE\"\n",
    "    },\n",
    "    {\n",
    "      \"id\": \"BASH\",\n",
    "      \"type\": \"SIMPLE\"\n",
    "    },\n",
    "    {\n",
    "      \"id\": \"HASKELL\",\n",
    "      \"type\": \"SIMPLE\"\n",
    "    },\n",
    "    {\n",
    "      \"id\": \"LUA\",\n",
    "      \"type\": \"SIMPLE\"\n",
    "    },\n",
    "    {\n",
    "      \"id\": \"PERL\",\n",
    "      \"type\": \"SIMPLE\"\n",
    "    },\n",
    "    {\n",
    "      \"id\": \"CLOJURE\",\n",
    "      \"type\": \"SIMPLE\"\n",
    "    },\n",
    "    {\n",
    "      \"id\": \"ELIXIR\",\n",
    "      \"type\": \"SIMPLE\"\n",
    "    },\n",
    "    {\n",
    "      \"id\": \"JULIA\",\n",
    "      \"type\": \"SIMPLE\"\n",
    "    },\n",
    "    {\n",
    "      \"id\": \"GROOVY\",\n",
    "      \"type\": \"SIMPLE\"\n",
    "    },\n",
    "    {\n",
    "      \"id\": \"ERLANG\",\n",
    "      \"type\": \"SIMPLE\"\n",
    "    },\n",
    "    {\n",
    "      \"id\": \"CUDA\",\n",
    "      \"type\": \"SIMPLE\"\n",
    "    },\n",
    "    {\n",
    "      \"id\": \"C++\",\n",
    "      \"type\": \"SIMPLE\"\n",
    "    },\n",
    "    {\n",
    "      \"id\": \"C\",\n",
    "      \"type\": \"SIMPLE\"\n",
    "    },\n",
    "    {\n",
    "      \"id\": \"RUST\",\n",
    "      \"type\": \"SIMPLE\"\n",
    "    },\n",
    "    {\n",
    "      \"id\": \"OBJECTIVE-C\",\n",
    "      \"type\": \"SIMPLE\"\n",
    "    },\n",
    "    {\n",
    "      \"id\": \"C#\",\n",
    "      \"type\": \"SIMPLE\"\n",
    "    },\n",
    "    {\n",
    "      \"id\": \"DART\",\n",
    "      \"type\": \"SIMPLE\"\n",
    "    },\n",
    "    {\n",
    "      \"id\": \"SWIFT\",\n",
    "      \"type\": \"SIMPLE\"\n",
    "    },\n",
    "    {\n",
    "      \"id\": \"GO\",\n",
    "      \"type\": \"SIMPLE\"\n",
    "    },\n",
    "    {\n",
    "      \"id\": \"RUBY\",\n",
    "      \"type\": \"SIMPLE\"\n",
    "    },\n",
    "    {\n",
    "      \"id\": \"MATLAB\",\n",
    "      \"type\": \"SIMPLE\"\n",
    "    },\n",
    "    {\n",
    "      \"id\": \"R\",\n",
    "      \"type\": \"SIMPLE\"\n",
    "    },\n",
    "    {\n",
    "      \"id\": \"PYTHON\",\n",
    "      \"type\": \"SIMPLE\"\n",
    "    },\n",
    "    {\n",
    "      \"id\": \"KOTLIN\",\n",
    "      \"type\": \"SIMPLE\"\n",
    "    },\n",
    "    {\n",
    "      \"id\": \"SCALA\",\n",
    "      \"type\": \"SIMPLE\"\n",
    "    },\n",
    "    {\n",
    "      \"id\": \"JAVA\",\n",
    "      \"type\": \"SIMPLE\"\n",
    "    },\n",
    "    {\n",
    "      \"id\": \"TYPESCRIPT\",\n",
    "      \"type\": \"SIMPLE\"\n",
    "    },\n",
    "    {\n",
    "      \"id\": \"COFFEESCRIPT\",\n",
    "      \"type\": \"SIMPLE\"\n",
    "    },\n",
    "    {\n",
    "      \"id\": \"PHP\",\n",
    "      \"type\": \"SIMPLE\"\n",
    "    },\n",
    "    {\n",
    "      \"id\": \"JAVASCRIPT\",\n",
    "      \"type\": \"SIMPLE\"\n",
    "    },\n",
    "    {\n",
    "      \"id\": \"HTML\",\n",
    "      \"type\": \"SIMPLE\"\n",
    "    },\n",
    "    {\n",
    "      \"id\": \"CSS\",\n",
    "      \"type\": \"SIMPLE\"\n",
    "    },\n",
    "    {\n",
    "      \"id\": \"DOTNET\",\n",
    "      \"type\": \"SIMPLE\"\n",
    "    },\n",
    "    {\n",
    "      \"id\": \"NODE.JS\",\n",
    "      \"type\": \"SIMPLE\"\n",
    "    },\n",
    "    {\n",
    "      \"id\": \"INTENSIVE_DATA_PROCESSING\",\n",
    "      \"type\": \"DECISION\"\n",
    "    },\n",
    "    {\n",
    "      \"id\": \"INFRASTRUCTURE\",\n",
    "      \"type\": \"DECISION\"\n",
    "    },\n",
    "    {\n",
    "      \"id\": \"WEB_FRONTEND\",\n",
    "      \"type\": \"DECISION\"\n",
    "    },\n",
    "    {\n",
    "      \"id\": \"BACKEND\",\n",
    "      \"type\": \"DECISION\"\n",
    "    },\n",
    "    {\n",
    "      \"id\": \"SCRIPTING\",\n",
    "      \"type\": \"DECISION\"\n",
    "    },\n",
    "    {\n",
    "      \"id\": \"QT-FRAMEWORK\",\n",
    "      \"type\": \"DECISION\"\n",
    "    },\n",
    "    {\n",
    "      \"id\": \"NUMERICAL_ANALYSIS\",\n",
    "      \"type\": \"DECISION\"\n",
    "    },\n",
    "    {\n",
    "      \"id\": \"STATISTICS\",\n",
    "      \"type\": \"DECISION\"\n",
    "    }\n",
    "  ],\n",
    "  \"relations\": [\n",
    "    {\n",
    "      \"origin\": \"COFFEESCRIPT\",\n",
    "      \"destiny\": \"NODE.JS\",\n",
    "      \"weight\": 1\n",
    "    },\n",
    "    {\n",
    "      \"origin\": \"R\",\n",
    "      \"destiny\": \"STATISTICS\",\n",
    "      \"weight\": 1\n",
    "    },\n",
    "    {\n",
    "      \"origin\": \"PHP\",\n",
    "      \"destiny\": \"BACKEND\",\n",
    "      \"weight\": 1\n",
    "    },\n",
    "    {\n",
    "      \"origin\": \"RUBY\",\n",
    "      \"destiny\": \"BACKEND\",\n",
    "      \"weight\": 0.62\n",
    "    },\n",
    "    {\n",
    "      \"origin\": \"KOTLIN\",\n",
    "      \"destiny\": \"BACKEND\",\n",
    "      \"weight\": 0.61\n",
    "    },\n",
    "    {\n",
    "      \"origin\": \"JAVA\",\n",
    "      \"destiny\": \"BACKEND\",\n",
    "      \"weight\": 0.57\n",
    "    },\n",
    "    {\n",
    "      \"origin\": \"PYTHON\",\n",
    "      \"destiny\": \"BACKEND\",\n",
    "      \"weight\": 0.32\n",
    "    },\n",
    "    {\n",
    "      \"origin\": \"GO\",\n",
    "      \"destiny\": \"BACKEND\",\n",
    "      \"weight\": 0.77\n",
    "    },\n",
    "    {\n",
    "      \"origin\": \"C#\",\n",
    "      \"destiny\": \"DOTNET\",\n",
    "      \"weight\": 0.71\n",
    "    },\n",
    "    {\n",
    "      \"origin\": \"CUDA\",\n",
    "      \"destiny\": \"NUMERICAL_ANALYSIS\",\n",
    "      \"weight\": 1\n",
    "    },\n",
    "    {\n",
    "      \"origin\": \"MATLAB\",\n",
    "      \"destiny\": \"NUMERICAL_ANALYSIS\",\n",
    "      \"weight\": 1\n",
    "    },\n",
    "    {\n",
    "      \"origin\": \"R\",\n",
    "      \"destiny\": \"NUMERICAL_ANALYSIS\",\n",
    "      \"weight\": 0.83\n",
    "    },\n",
    "    {\n",
    "      \"origin\": \"QML\",\n",
    "      \"destiny\": \"QT-FRAMEWORK\",\n",
    "      \"weight\": 1\n",
    "    },\n",
    "    {\n",
    "      \"origin\": \"QMAKE\",\n",
    "      \"destiny\": \"QT-FRAMEWORK\",\n",
    "      \"weight\": 1\n",
    "    },\n",
    "    {\n",
    "      \"origin\": \"CUDA\",\n",
    "      \"destiny\": \"INTENSIVE_DATA_PROCESSING\",\n",
    "      \"weight\": 1\n",
    "    },\n",
    "    {\n",
    "      \"origin\": \"ERLANG\",\n",
    "      \"destiny\": \"INTENSIVE_DATA_PROCESSING\",\n",
    "      \"weight\": 0.68\n",
    "    },\n",
    "    {\n",
    "      \"origin\": \"SCALA\",\n",
    "      \"destiny\": \"INTENSIVE_DATA_PROCESSING\",\n",
    "      \"weight\": 0.42\n",
    "    },\n",
    "    {\n",
    "      \"origin\": \"HASKELL\",\n",
    "      \"destiny\": \"INTENSIVE_DATA_PROCESSING\",\n",
    "      \"weight\": 0.5\n",
    "    },\n",
    "    {\n",
    "      \"origin\": \"PYTHON\",\n",
    "      \"destiny\": \"SCRIPTING\",\n",
    "      \"weight\": 0.27\n",
    "    },\n",
    "    {\n",
    "      \"origin\": \"LUA\",\n",
    "      \"destiny\": \"SCRIPTING\",\n",
    "      \"weight\": 0.43\n",
    "    },\n",
    "    {\n",
    "      \"origin\": \"SHELL\",\n",
    "      \"destiny\": \"SCRIPTING\",\n",
    "      \"weight\": 1\n",
    "    },\n",
    "    {\n",
    "      \"origin\": \"BASH\",\n",
    "      \"destiny\": \"SCRIPTING\",\n",
    "      \"weight\": 1\n",
    "    },\n",
    "    {\n",
    "      \"origin\": \"SHELL\",\n",
    "      \"destiny\": \"INFRASTRUCTURE\",\n",
    "      \"weight\": 0.77\n",
    "    },\n",
    "    {\n",
    "      \"origin\": \"BASH\",\n",
    "      \"destiny\": \"INFRASTRUCTURE\",\n",
    "      \"weight\": 0.62\n",
    "    },\n",
    "    {\n",
    "      \"origin\": \"COFFEESCRIPT\",\n",
    "      \"destiny\": \"WEB_FRONTEND\",\n",
    "      \"weight\": 1\n",
    "    },\n",
    "    {\n",
    "      \"origin\": \"TYPESCRIPT\",\n",
    "      \"destiny\": \"WEB_FRONTEND\",\n",
    "      \"weight\": 1\n",
    "    },\n",
    "    {\n",
    "      \"origin\": \"JAVASCRIPT\",\n",
    "      \"destiny\": \"WEB_FRONTEND\",\n",
    "      \"weight\": 1\n",
    "    },\n",
    "    {\n",
    "      \"origin\": \"HTML\",\n",
    "      \"destiny\": \"WEB_FRONTEND\",\n",
    "      \"weight\": 0.25\n",
    "    },\n",
    "    {\n",
    "      \"origin\": \"CSS\",\n",
    "      \"destiny\": \"WEB_FRONTEND\",\n",
    "      \"weight\": 0.1\n",
    "    }\n",
    "  ]\n",
    "}\n",
    "\"\"\""
   ],
   "execution_count": null,
   "outputs": []
  },
  {
   "cell_type": "markdown",
   "metadata": {
    "id": "vaaEOR8uWSLe"
   },
   "source": [
    "Load the knowledge base and build the FCM. As we can see, the params are defined inside the JSON structure."
   ]
  },
  {
   "cell_type": "code",
   "metadata": {
    "scrolled": false,
    "id": "Jj8_IZJfWSLf",
    "colab": {
     "base_uri": "https://localhost:8080/"
    },
    "executionInfo": {
     "status": "ok",
     "timestamp": 1612027933085,
     "user_tz": 300,
     "elapsed": 8143,
     "user": {
      "displayName": "Jairo Lefebre",
      "photoUrl": "https://lh3.googleusercontent.com/a-/AOh14Gi61js21nBKf-dibWFiPIrDxJnRUovIEtuBZAp-=s64",
      "userId": "07372826646696628377"
     }
    },
    "outputId": "ccc7d8c6-2f70-43bf-920d-d169b56f152a"
   },
   "source": [
    "import json\n",
    "from py_fcm import from_json\n",
    "def load_kb():\n",
    "    kb = from_json(knowledge_base)\n",
    "    kb.set_map_decision_function(\"EXITED\")\n",
    "    kb.flag_mem_influence = False\n",
    "    return kb\n",
    "        \n",
    "# show FCM\n",
    "json_fcm = load_kb().to_json()\n",
    "parsed_fcm = json.loads(json_fcm)\n",
    "print(json.dumps(parsed_fcm, indent=4))"
   ],
   "execution_count": null,
   "outputs": [
    {
     "output_type": "stream",
     "text": [
      "{\n",
      "    \"max_iter\": 500,\n",
      "    \"decision_function\": \"EXITED\",\n",
      "    \"activation_function\": \"sigmoid_hip\",\n",
      "    \"memory_influence\": false,\n",
      "    \"stability_diff\": 0.001,\n",
      "    \"stop_at_stabilize\": true,\n",
      "    \"extra_steps\": 5,\n",
      "    \"weight\": 1,\n",
      "    \"concepts\": [\n",
      "        {\n",
      "            \"id\": \"QMAKE\",\n",
      "            \"is_active\": true,\n",
      "            \"type\": \"SIMPLE\",\n",
      "            \"activation\": 0.0\n",
      "        },\n",
      "        {\n",
      "            \"id\": \"QML\",\n",
      "            \"is_active\": true,\n",
      "            \"type\": \"SIMPLE\",\n",
      "            \"activation\": 0.0\n",
      "        },\n",
      "        {\n",
      "            \"id\": \"SHELL\",\n",
      "            \"is_active\": true,\n",
      "            \"type\": \"SIMPLE\",\n",
      "            \"activation\": 0.0\n",
      "        },\n",
      "        {\n",
      "            \"id\": \"BASH\",\n",
      "            \"is_active\": true,\n",
      "            \"type\": \"SIMPLE\",\n",
      "            \"activation\": 0.0\n",
      "        },\n",
      "        {\n",
      "            \"id\": \"HASKELL\",\n",
      "            \"is_active\": true,\n",
      "            \"type\": \"SIMPLE\",\n",
      "            \"activation\": 0.0\n",
      "        },\n",
      "        {\n",
      "            \"id\": \"LUA\",\n",
      "            \"is_active\": true,\n",
      "            \"type\": \"SIMPLE\",\n",
      "            \"activation\": 0.0\n",
      "        },\n",
      "        {\n",
      "            \"id\": \"PERL\",\n",
      "            \"is_active\": true,\n",
      "            \"type\": \"SIMPLE\",\n",
      "            \"activation\": 0.0\n",
      "        },\n",
      "        {\n",
      "            \"id\": \"CLOJURE\",\n",
      "            \"is_active\": true,\n",
      "            \"type\": \"SIMPLE\",\n",
      "            \"activation\": 0.0\n",
      "        },\n",
      "        {\n",
      "            \"id\": \"ELIXIR\",\n",
      "            \"is_active\": true,\n",
      "            \"type\": \"SIMPLE\",\n",
      "            \"activation\": 0.0\n",
      "        },\n",
      "        {\n",
      "            \"id\": \"JULIA\",\n",
      "            \"is_active\": true,\n",
      "            \"type\": \"SIMPLE\",\n",
      "            \"activation\": 0.0\n",
      "        },\n",
      "        {\n",
      "            \"id\": \"GROOVY\",\n",
      "            \"is_active\": true,\n",
      "            \"type\": \"SIMPLE\",\n",
      "            \"activation\": 0.0\n",
      "        },\n",
      "        {\n",
      "            \"id\": \"ERLANG\",\n",
      "            \"is_active\": true,\n",
      "            \"type\": \"SIMPLE\",\n",
      "            \"activation\": 0.0\n",
      "        },\n",
      "        {\n",
      "            \"id\": \"CUDA\",\n",
      "            \"is_active\": true,\n",
      "            \"type\": \"SIMPLE\",\n",
      "            \"activation\": 0.0\n",
      "        },\n",
      "        {\n",
      "            \"id\": \"C++\",\n",
      "            \"is_active\": true,\n",
      "            \"type\": \"SIMPLE\",\n",
      "            \"activation\": 0.0\n",
      "        },\n",
      "        {\n",
      "            \"id\": \"C\",\n",
      "            \"is_active\": true,\n",
      "            \"type\": \"SIMPLE\",\n",
      "            \"activation\": 0.0\n",
      "        },\n",
      "        {\n",
      "            \"id\": \"RUST\",\n",
      "            \"is_active\": true,\n",
      "            \"type\": \"SIMPLE\",\n",
      "            \"activation\": 0.0\n",
      "        },\n",
      "        {\n",
      "            \"id\": \"OBJECTIVE-C\",\n",
      "            \"is_active\": true,\n",
      "            \"type\": \"SIMPLE\",\n",
      "            \"activation\": 0.0\n",
      "        },\n",
      "        {\n",
      "            \"id\": \"C#\",\n",
      "            \"is_active\": true,\n",
      "            \"type\": \"SIMPLE\",\n",
      "            \"activation\": 0.0\n",
      "        },\n",
      "        {\n",
      "            \"id\": \"DART\",\n",
      "            \"is_active\": true,\n",
      "            \"type\": \"SIMPLE\",\n",
      "            \"activation\": 0.0\n",
      "        },\n",
      "        {\n",
      "            \"id\": \"SWIFT\",\n",
      "            \"is_active\": true,\n",
      "            \"type\": \"SIMPLE\",\n",
      "            \"activation\": 0.0\n",
      "        },\n",
      "        {\n",
      "            \"id\": \"GO\",\n",
      "            \"is_active\": true,\n",
      "            \"type\": \"SIMPLE\",\n",
      "            \"activation\": 0.0\n",
      "        },\n",
      "        {\n",
      "            \"id\": \"RUBY\",\n",
      "            \"is_active\": true,\n",
      "            \"type\": \"SIMPLE\",\n",
      "            \"activation\": 0.0\n",
      "        },\n",
      "        {\n",
      "            \"id\": \"MATLAB\",\n",
      "            \"is_active\": true,\n",
      "            \"type\": \"SIMPLE\",\n",
      "            \"activation\": 0.0\n",
      "        },\n",
      "        {\n",
      "            \"id\": \"R\",\n",
      "            \"is_active\": true,\n",
      "            \"type\": \"SIMPLE\",\n",
      "            \"activation\": 0.0\n",
      "        },\n",
      "        {\n",
      "            \"id\": \"PYTHON\",\n",
      "            \"is_active\": true,\n",
      "            \"type\": \"SIMPLE\",\n",
      "            \"activation\": 0.0\n",
      "        },\n",
      "        {\n",
      "            \"id\": \"KOTLIN\",\n",
      "            \"is_active\": true,\n",
      "            \"type\": \"SIMPLE\",\n",
      "            \"activation\": 0.0\n",
      "        },\n",
      "        {\n",
      "            \"id\": \"SCALA\",\n",
      "            \"is_active\": true,\n",
      "            \"type\": \"SIMPLE\",\n",
      "            \"activation\": 0.0\n",
      "        },\n",
      "        {\n",
      "            \"id\": \"JAVA\",\n",
      "            \"is_active\": true,\n",
      "            \"type\": \"SIMPLE\",\n",
      "            \"activation\": 0.0\n",
      "        },\n",
      "        {\n",
      "            \"id\": \"TYPESCRIPT\",\n",
      "            \"is_active\": true,\n",
      "            \"type\": \"SIMPLE\",\n",
      "            \"activation\": 0.0\n",
      "        },\n",
      "        {\n",
      "            \"id\": \"COFFEESCRIPT\",\n",
      "            \"is_active\": true,\n",
      "            \"type\": \"SIMPLE\",\n",
      "            \"activation\": 0.0\n",
      "        },\n",
      "        {\n",
      "            \"id\": \"PHP\",\n",
      "            \"is_active\": true,\n",
      "            \"type\": \"SIMPLE\",\n",
      "            \"activation\": 0.0\n",
      "        },\n",
      "        {\n",
      "            \"id\": \"JAVASCRIPT\",\n",
      "            \"is_active\": true,\n",
      "            \"type\": \"SIMPLE\",\n",
      "            \"activation\": 0.0\n",
      "        },\n",
      "        {\n",
      "            \"id\": \"HTML\",\n",
      "            \"is_active\": true,\n",
      "            \"type\": \"SIMPLE\",\n",
      "            \"activation\": 0.0\n",
      "        },\n",
      "        {\n",
      "            \"id\": \"CSS\",\n",
      "            \"is_active\": true,\n",
      "            \"type\": \"SIMPLE\",\n",
      "            \"activation\": 0.0\n",
      "        },\n",
      "        {\n",
      "            \"id\": \"DOTNET\",\n",
      "            \"is_active\": true,\n",
      "            \"type\": \"SIMPLE\",\n",
      "            \"activation\": 0.0\n",
      "        },\n",
      "        {\n",
      "            \"id\": \"NODE.JS\",\n",
      "            \"is_active\": true,\n",
      "            \"type\": \"SIMPLE\",\n",
      "            \"activation\": 0.0\n",
      "        },\n",
      "        {\n",
      "            \"id\": \"INTENSIVE_DATA_PROCESSING\",\n",
      "            \"is_active\": true,\n",
      "            \"type\": \"DECISION\",\n",
      "            \"activation\": 0.0\n",
      "        },\n",
      "        {\n",
      "            \"id\": \"INFRASTRUCTURE\",\n",
      "            \"is_active\": true,\n",
      "            \"type\": \"DECISION\",\n",
      "            \"activation\": 0.0\n",
      "        },\n",
      "        {\n",
      "            \"id\": \"WEB_FRONTEND\",\n",
      "            \"is_active\": true,\n",
      "            \"type\": \"DECISION\",\n",
      "            \"activation\": 0.0\n",
      "        },\n",
      "        {\n",
      "            \"id\": \"BACKEND\",\n",
      "            \"is_active\": true,\n",
      "            \"type\": \"DECISION\",\n",
      "            \"activation\": 0.0\n",
      "        },\n",
      "        {\n",
      "            \"id\": \"SCRIPTING\",\n",
      "            \"is_active\": true,\n",
      "            \"type\": \"DECISION\",\n",
      "            \"activation\": 0.0\n",
      "        },\n",
      "        {\n",
      "            \"id\": \"QT-FRAMEWORK\",\n",
      "            \"is_active\": true,\n",
      "            \"type\": \"DECISION\",\n",
      "            \"activation\": 0.0\n",
      "        },\n",
      "        {\n",
      "            \"id\": \"NUMERICAL_ANALYSIS\",\n",
      "            \"is_active\": true,\n",
      "            \"type\": \"DECISION\",\n",
      "            \"activation\": 0.0\n",
      "        },\n",
      "        {\n",
      "            \"id\": \"STATISTICS\",\n",
      "            \"is_active\": true,\n",
      "            \"type\": \"DECISION\",\n",
      "            \"activation\": 0.0\n",
      "        }\n",
      "    ],\n",
      "    \"relations\": [\n",
      "        {\n",
      "            \"origin\": \"COFFEESCRIPT\",\n",
      "            \"destiny\": \"NODE.JS\",\n",
      "            \"weight\": 1\n",
      "        },\n",
      "        {\n",
      "            \"origin\": \"R\",\n",
      "            \"destiny\": \"STATISTICS\",\n",
      "            \"weight\": 1\n",
      "        },\n",
      "        {\n",
      "            \"origin\": \"PHP\",\n",
      "            \"destiny\": \"BACKEND\",\n",
      "            \"weight\": 1\n",
      "        },\n",
      "        {\n",
      "            \"origin\": \"RUBY\",\n",
      "            \"destiny\": \"BACKEND\",\n",
      "            \"weight\": 0.62\n",
      "        },\n",
      "        {\n",
      "            \"origin\": \"KOTLIN\",\n",
      "            \"destiny\": \"BACKEND\",\n",
      "            \"weight\": 0.61\n",
      "        },\n",
      "        {\n",
      "            \"origin\": \"JAVA\",\n",
      "            \"destiny\": \"BACKEND\",\n",
      "            \"weight\": 0.57\n",
      "        },\n",
      "        {\n",
      "            \"origin\": \"PYTHON\",\n",
      "            \"destiny\": \"BACKEND\",\n",
      "            \"weight\": 0.32\n",
      "        },\n",
      "        {\n",
      "            \"origin\": \"GO\",\n",
      "            \"destiny\": \"BACKEND\",\n",
      "            \"weight\": 0.77\n",
      "        },\n",
      "        {\n",
      "            \"origin\": \"C#\",\n",
      "            \"destiny\": \"DOTNET\",\n",
      "            \"weight\": 0.71\n",
      "        },\n",
      "        {\n",
      "            \"origin\": \"CUDA\",\n",
      "            \"destiny\": \"NUMERICAL_ANALYSIS\",\n",
      "            \"weight\": 1\n",
      "        },\n",
      "        {\n",
      "            \"origin\": \"MATLAB\",\n",
      "            \"destiny\": \"NUMERICAL_ANALYSIS\",\n",
      "            \"weight\": 1\n",
      "        },\n",
      "        {\n",
      "            \"origin\": \"R\",\n",
      "            \"destiny\": \"NUMERICAL_ANALYSIS\",\n",
      "            \"weight\": 0.83\n",
      "        },\n",
      "        {\n",
      "            \"origin\": \"QML\",\n",
      "            \"destiny\": \"QT-FRAMEWORK\",\n",
      "            \"weight\": 1\n",
      "        },\n",
      "        {\n",
      "            \"origin\": \"QMAKE\",\n",
      "            \"destiny\": \"QT-FRAMEWORK\",\n",
      "            \"weight\": 1\n",
      "        },\n",
      "        {\n",
      "            \"origin\": \"CUDA\",\n",
      "            \"destiny\": \"INTENSIVE_DATA_PROCESSING\",\n",
      "            \"weight\": 1\n",
      "        },\n",
      "        {\n",
      "            \"origin\": \"ERLANG\",\n",
      "            \"destiny\": \"INTENSIVE_DATA_PROCESSING\",\n",
      "            \"weight\": 0.68\n",
      "        },\n",
      "        {\n",
      "            \"origin\": \"SCALA\",\n",
      "            \"destiny\": \"INTENSIVE_DATA_PROCESSING\",\n",
      "            \"weight\": 0.42\n",
      "        },\n",
      "        {\n",
      "            \"origin\": \"HASKELL\",\n",
      "            \"destiny\": \"INTENSIVE_DATA_PROCESSING\",\n",
      "            \"weight\": 0.5\n",
      "        },\n",
      "        {\n",
      "            \"origin\": \"PYTHON\",\n",
      "            \"destiny\": \"SCRIPTING\",\n",
      "            \"weight\": 0.27\n",
      "        },\n",
      "        {\n",
      "            \"origin\": \"LUA\",\n",
      "            \"destiny\": \"SCRIPTING\",\n",
      "            \"weight\": 0.43\n",
      "        },\n",
      "        {\n",
      "            \"origin\": \"SHELL\",\n",
      "            \"destiny\": \"SCRIPTING\",\n",
      "            \"weight\": 1\n",
      "        },\n",
      "        {\n",
      "            \"origin\": \"BASH\",\n",
      "            \"destiny\": \"SCRIPTING\",\n",
      "            \"weight\": 1\n",
      "        },\n",
      "        {\n",
      "            \"origin\": \"SHELL\",\n",
      "            \"destiny\": \"INFRASTRUCTURE\",\n",
      "            \"weight\": 0.77\n",
      "        },\n",
      "        {\n",
      "            \"origin\": \"BASH\",\n",
      "            \"destiny\": \"INFRASTRUCTURE\",\n",
      "            \"weight\": 0.62\n",
      "        },\n",
      "        {\n",
      "            \"origin\": \"COFFEESCRIPT\",\n",
      "            \"destiny\": \"WEB_FRONTEND\",\n",
      "            \"weight\": 1\n",
      "        },\n",
      "        {\n",
      "            \"origin\": \"TYPESCRIPT\",\n",
      "            \"destiny\": \"WEB_FRONTEND\",\n",
      "            \"weight\": 1\n",
      "        },\n",
      "        {\n",
      "            \"origin\": \"JAVASCRIPT\",\n",
      "            \"destiny\": \"WEB_FRONTEND\",\n",
      "            \"weight\": 1\n",
      "        },\n",
      "        {\n",
      "            \"origin\": \"HTML\",\n",
      "            \"destiny\": \"WEB_FRONTEND\",\n",
      "            \"weight\": 0.25\n",
      "        },\n",
      "        {\n",
      "            \"origin\": \"CSS\",\n",
      "            \"destiny\": \"WEB_FRONTEND\",\n",
      "            \"weight\": 0.1\n",
      "        }\n",
      "    ]\n",
      "}\n"
     ],
     "name": "stdout"
    }
   ]
  },
  {
   "cell_type": "markdown",
   "metadata": {
    "id": "7y6tdytLWSLf"
   },
   "source": [
    "Up to this point, all the required information to make the inference process is complete. Now, it's required to process each provider data according to the problem steps defined."
   ]
  },
  {
   "cell_type": "markdown",
   "metadata": {
    "id": "F-ub_gGoWSLg"
   },
   "source": [
    "##### Merge FCMs"
   ]
  },
  {
   "cell_type": "markdown",
   "metadata": {
    "id": "sN8jATXzWSLg"
   },
   "source": [
    "As mentioned previously, during the processing pipeline it's required to merge different FCM according to the current process step. To carry out this, Py-FCM provides a *join_maps* function with this purpose. The function has several parameters that must be defined to avoid noise in the final result.\n",
    "\n",
    "**Arguments description**\n",
    "\n",
    "* node_strategy: Strategy to join all maps nodes\n",
    "  * union: the new FuzzyCognitiveMap will have the set union of nodes in map_set (default)\n",
    "  * intersection: the new FuzzyCognitiveMap will have the set intersection of nodes in  map_set\n",
    "* value_strategy: Strategy to define the initial state of map nodes\n",
    "  * highest: Select the highest node value as initial node state\n",
    "  * lowest: Select the lowest node value as initial node state\n",
    "  * average: Select the average of node values as initial node state (default)\n",
    "* relation_strategy: Strategy to define the value for repeated relations weight in map topology\n",
    "  * highest: Select the highest relation value as new relation value\n",
    "  * lowest: Select the lowest relation value as new relation value\n",
    "  * average: Select the average of relations values as new relation value (default)\n",
    "* ignore_zeros: Ignore zero evaluated concepts in value_strategy selected (default False)\n",
    "\n",
    "Since all the maps are equal, there is no output difference between *node_strategy* and *relation_strategy* used. To provide a fair evaluation process, it's proposed to use *average* as *value_strategy*. Also, *ignore_zeros* must be set to *True* because when the user has, for instance, seven projects to merge and only one has code in JAVA with evaluation $v=1$, the JAVA final evaluation for that provider will be (using *average* as *value_strategy*) $final=v/7$. This happened because the $0$ data is used in the average formula from projects without JAVA code, adding noise in the final result. "
   ]
  },
  {
   "cell_type": "markdown",
   "metadata": {
    "id": "VYjyPbPVWSLg"
   },
   "source": [
    "##### Value normalization"
   ]
  },
  {
   "cell_type": "markdown",
   "metadata": {
    "id": "L0zNWYgNWSLg"
   },
   "source": [
    "To provide an acurate node activation according to the experected input values, it's required to define a normalization strategy. Since for each value there is a certain point where no matter how great is the number, it will no longer contribute to the user's skills, this process is carried out using the proposed *sigmoid hip* function and fitting the  funtion's lambda arg according to the expected input values. For that reason, it's required to create several constants to define the proper value required to consider a relevant contribution. Using that value, the lambda value for *sigmoid* function can be estimated, normalizing the input value for the algorithm. The values defined are a proposal and can be updated according to the algorithm's expected behaviour.\n"
   ]
  },
  {
   "cell_type": "code",
   "metadata": {
    "id": "NVgvSs6kWSLh"
   },
   "source": [
    "from py_fcm import functions\n",
    "\n",
    "# estimate bytes of code lambda value\n",
    "MINIMUM_BYTES_OF_CODE_TO_CONSIDER_RELEVANT_PROJECT = 30000\n",
    "# this means: when an user reach an amount of bytes of code higher than 3 * 30000 it will receive a 60% of the evaluation\n",
    "SRC_LAMBDA_VALUE = functions.Activation.sigmoid_hip_lambda(3 * MINIMUM_BYTES_OF_CODE_TO_CONSIDER_RELEVANT_PROJECT, 0.6)\n",
    "DEFAULT_LAMBDA_VALUE = 0.01\n",
    "\n",
    "# estimate commits lambda value\n",
    "MEAN_OF_RELEVANT_PROJECT_COMMITS = 100\n",
    "COMMITS_LAMBDA_VALUE = functions.Activation.sigmoid_hip_lambda(MEAN_OF_RELEVANT_PROJECT_COMMITS, 0.5)\n",
    "\n",
    "# estimate forks lambda value\n",
    "MEAN_OF_RELEVANT_PROJECT_FROKS = 10\n",
    "FORKS_LAMBDA_VALUE = functions.Activation.sigmoid_hip_lambda(MEAN_OF_RELEVANT_PROJECT_FROKS, 0.5)\n",
    "\n",
    "# estimate views lambda value\n",
    "MEAN_OF_RELEVANT_PROJECT_VIEWS = 15\n",
    "VIEWS_LAMBDA_VALUE = functions.Activation.sigmoid_hip_lambda(MEAN_OF_RELEVANT_PROJECT_VIEWS, 0.5)\n",
    "\n",
    "# estimate stars lambda value\n",
    "MEAN_OF_RELEVANT_PROJECT_STARS = 20\n",
    "STARS_LAMBDA_VALUE = functions.Activation.sigmoid_hip_lambda(MEAN_OF_RELEVANT_PROJECT_STARS, 0.5)\n",
    "\n",
    "# define GitLab bytes reduction due is estimated from total project bytes\n",
    "GITLAB_BYTES_DIFFERENCE_RATIO = 25\n",
    "\n",
    "# estimate reputation lambda value\n",
    "STACK_EXC_MAX_REPUTATION_CONTRIBUTION = 6000\n",
    "STACK_EXC_REPUTATION_LAMBDA = functions.Activation.sigmoid_hip_lambda(STACK_EXC_MAX_REPUTATION_CONTRIBUTION, 0.98)\n",
    "\n",
    "# estimate score lambda value\n",
    "STACK_EXC_MAX_SCORE_CONTRIBUTION = 750\n",
    "STACK_EXC_SCORE_LAMBDA = functions.Activation.sigmoid_hip_lambda(STACK_EXC_MAX_SCORE_CONTRIBUTION, 0.98)"
   ],
   "execution_count": null,
   "outputs": []
  },
  {
   "cell_type": "markdown",
   "metadata": {
    "pycharm": {
     "name": "#%% md\n"
    },
    "id": "-SUQdINLWSLh"
   },
   "source": [
    "#### Process GitHub provider"
   ]
  },
  {
   "cell_type": "markdown",
   "metadata": {
    "id": "_3uHOEUlWSLh"
   },
   "source": [
    "To process GitHub data it's required to load the input JSON and start the process using that structure"
   ]
  },
  {
   "cell_type": "code",
   "metadata": {
    "pycharm": {
     "name": "#%%\n"
    },
    "id": "zHHLpY3IWSLh"
   },
   "source": [
    "import json\n",
    "structured_data = json.loads(input_json)\n",
    "for profile in structured_data['profiles']:\n",
    "    if profile['provider'] == 'GITHUB':\n",
    "        github_data = profile"
   ],
   "execution_count": null,
   "outputs": []
  },
  {
   "cell_type": "markdown",
   "metadata": {
    "pycharm": {
     "name": "#%% md\n"
    },
    "id": "OMDIwuhqWSLi"
   },
   "source": [
    "##### Name Homogenization"
   ]
  },
  {
   "cell_type": "markdown",
   "metadata": {
    "id": "0T5XJrYHWSLi"
   },
   "source": [
    "The process is carried out to transform the input skill name to a defined name on the map. Currently, it only sets to upper case the skill name, but this process should be updated."
   ]
  },
  {
   "cell_type": "code",
   "metadata": {
    "pycharm": {
     "name": "#%%\n"
    },
    "id": "Ym7fIn6VWSLi"
   },
   "source": [
    "for skill in github_data['skills']:\n",
    "    skill['name'] = str(skill['name']).upper()"
   ],
   "execution_count": null,
   "outputs": []
  },
  {
   "cell_type": "markdown",
   "metadata": {
    "pycharm": {
     "name": "#%% md\n"
    },
    "id": "7zaBcaX6WSLj"
   },
   "source": [
    "##### Input value determination"
   ]
  },
  {
   "cell_type": "markdown",
   "metadata": {
    "id": "OM-ZDR9LWSLj"
   },
   "source": [
    "According to user contributions to the project, it's required to estimate the real user skills value for each project. So, it's required to find the real user contribution using the relation between userAdditions and totalAdditions. If those values are not provided, the commits values are used instead."
   ]
  },
  {
   "cell_type": "code",
   "metadata": {
    "id": "5yonrtjcWSLj",
    "colab": {
     "base_uri": "https://localhost:8080/"
    },
    "executionInfo": {
     "status": "ok",
     "timestamp": 1612027933092,
     "user_tz": 300,
     "elapsed": 8126,
     "user": {
      "displayName": "Jairo Lefebre",
      "photoUrl": "https://lh3.googleusercontent.com/a-/AOh14Gi61js21nBKf-dibWFiPIrDxJnRUovIEtuBZAp-=s64",
      "userId": "07372826646696628377"
     }
    },
    "outputId": "4df8f264-9b19-4ac1-c944-9e38afc51fad"
   },
   "source": [
    "from collections import defaultdict\n",
    "\n",
    "projects_contribution = {}\n",
    "commits_contribution = {}\n",
    "fork_star_vew_contribution = {}\n",
    "total_project_bytes = defaultdict(int)\n",
    "\n",
    "for repository in github_data['repositories']:\n",
    "    if repository['userAdditions'] != 0 and repository['totalAdditions'] != 0:\n",
    "        projects_contribution[repository['id']] = repository['userAdditions'] / repository['totalAdditions']\n",
    "    elif repository['userCommits'] != 0 and repository['totalCommits'] != 0:\n",
    "        projects_contribution[repository['id']] = repository['userCommits'] / repository['totalCommits']\n",
    "    else:\n",
    "        projects_contribution[repository['id']] = 1\n",
    "        \n",
    "    if repository['userCommits'] > 0:\n",
    "        commits_contribution[repository['id']] = functions.Activation.sigmoid_hip(repository['userCommits'],\n",
    "                                                                                 COMMITS_LAMBDA_VALUE)\n",
    "    else:\n",
    "        commits_contribution[repository['id']] = 0\n",
    "        \n",
    "    forks_eval = functions.Activation.sigmoid_hip(repository['forks'], COMMITS_LAMBDA_VALUE)\n",
    "    views_eval = functions.Activation.sigmoid_hip(repository['stars'], VIEWS_LAMBDA_VALUE)\n",
    "    stars_eval = functions.Activation.sigmoid_hip(repository['views'], STARS_LAMBDA_VALUE)\n",
    "    \n",
    "    # weighted sum\n",
    "    fork_star_vew_contribution[repository['id']] = 0.4 * forks_eval + 0.4 * views_eval + 0.2 * stars_eval\n",
    "\n",
    "for skill in github_data['skills']:\n",
    "    total_project_bytes[skill['repositoryId']] += skill['value']\n",
    "\n",
    "for skill in github_data['skills']:\n",
    "    # store the user contribution factor in that skill for the project with id 'repositoryId'\n",
    "    skill['estimated_contribution'] = ((skill['value'] * projects_contribution[skill['repositoryId']]) /\n",
    "                                     total_project_bytes[skill['repositoryId']])\n",
    "    print(skill['name'], skill['estimated_contribution'], ' => ', total_project_bytes[skill['repositoryId']])"
   ],
   "execution_count": null,
   "outputs": [
    {
     "output_type": "stream",
     "text": [
      "JAVA 0.5907258064516129  =>  297600.0\n",
      "JAVASCRIPT 0.7604293047130192  =>  32145.0\n",
      "HTML 0.166651112148079  =>  32145.0\n",
      "CSS 0.07291958313890184  =>  32145.0\n"
     ],
     "name": "stdout"
    }
   ]
  },
  {
   "cell_type": "markdown",
   "metadata": {
    "id": "RjIfptm9WSLk"
   },
   "source": [
    "##### Skill evaluation and Inference "
   ]
  },
  {
   "cell_type": "markdown",
   "metadata": {
    "id": "528bDt1RWSLk"
   },
   "source": [
    "To execute the evaluation process and skills inference, it's required to carry out the process for each project, as mentioned before."
   ]
  },
  {
   "cell_type": "code",
   "metadata": {
    "pycharm": {
     "name": "#%%\n"
    },
    "id": "S_MAKjpeWSLk",
    "colab": {
     "base_uri": "https://localhost:8080/"
    },
    "executionInfo": {
     "status": "ok",
     "timestamp": 1612027933094,
     "user_tz": 300,
     "elapsed": 8119,
     "user": {
      "displayName": "Jairo Lefebre",
      "photoUrl": "https://lh3.googleusercontent.com/a-/AOh14Gi61js21nBKf-dibWFiPIrDxJnRUovIEtuBZAp-=s64",
      "userId": "07372826646696628377"
     }
    },
    "outputId": "df4360bc-009f-4712-c2c0-b459f92d3425"
   },
   "source": [
    "projects_fcm = []\n",
    "skills_relation = defaultdict(list)\n",
    "\n",
    "# group skills by repository (project)\n",
    "for skill in github_data['skills']:\n",
    "    skills_relation[skill['repositoryId']].append(skill)\n",
    "    \n",
    "for repo_id in skills_relation:\n",
    "    # create a knowledge base by project\n",
    "    print(\"\\n =====> Repository: \", repo_id)\n",
    "    print('Skill name | Estimated contribution | Skill value | Scaled activation value')\n",
    "    projects_fcm.append(load_kb())\n",
    "    \n",
    "    # init all found concepts (skills) on the FCM \n",
    "    for skill in skills_relation[repo_id]:\n",
    "        \n",
    "        # add concept if not exist\n",
    "        projects_fcm[-1].add_concept(skill['name'])\n",
    "        \n",
    "        skill_value = skill['estimated_contribution'] * total_project_bytes[skill['repositoryId']]\n",
    "        \n",
    "        # find the scaled skill values using previously defined parameter value\n",
    "        scaled_skill_value = functions.Activation.sigmoid_hip(skill_value, SRC_LAMBDA_VALUE) \n",
    "        \n",
    "        # use commits contribution to prevent cheating the evaluation process \n",
    "        scaled_skill_value = scaled_skill_value * commits_contribution[skill['repositoryId']]\n",
    "\n",
    "        if scaled_skill_value > 0.000001:\n",
    "            # the aditional values will only contribute a 10% of the evaluation at most \n",
    "            scaled_skill_value = scaled_skill_value + 0.1 * fork_star_vew_contribution[skill['repositoryId']]\n",
    "        if scaled_skill_value > 1.0:\n",
    "            scaled_skill_value = 1.0\n",
    "            \n",
    "        # init the concept value\n",
    "        projects_fcm[-1].init_concept(skill['name'], scaled_skill_value, required_presence=False)\n",
    "        \n",
    "        #print data\n",
    "        print(skill['name'], '|',skill['estimated_contribution'], '|',skill_value, '|',scaled_skill_value)\n",
    "        \n",
    "    # run the inference process for current FCM\n",
    "    projects_fcm[-1].run_inference()\n",
    "    \n",
    "    # print result\n",
    "    evaluation = projects_fcm[-1].get_final_state(concepts_type='any')\n",
    "    skills = list(evaluation.keys())\n",
    "    for skill in skills:\n",
    "        if evaluation[skill] == 0:\n",
    "            del evaluation[skill]\n",
    "    print(json.dumps(evaluation, indent=4, sort_keys=True))"
   ],
   "execution_count": null,
   "outputs": [
    {
     "output_type": "stream",
     "text": [
      "\n",
      " =====> Repository:  1\n",
      "Skill name | Estimated contribution | Skill value | Scaled activation value\n",
      "JAVA | 0.5907258064516129 | 175800.0 | 0.49912840567710953\n",
      "{\n",
      "    \"BACKEND\": 0.277067742985496,\n",
      "    \"JAVA\": 0.49912840567710953\n",
      "}\n",
      "\n",
      " =====> Repository:  2\n",
      "Skill name | Estimated contribution | Skill value | Scaled activation value\n",
      "JAVASCRIPT | 0.7604293047130192 | 24444.0 | 0.21050208563385286\n",
      "HTML | 0.166651112148079 | 5357.0 | 0.09488326859808649\n",
      "CSS | 0.07291958313890184 | 2344.0 | 0.07637583749040781\n",
      "{\n",
      "    \"CSS\": 0.07637583749040781,\n",
      "    \"HTML\": 0.09488326859808649,\n",
      "    \"JAVASCRIPT\": 0.21050208563385286,\n",
      "    \"WEB_FRONTEND\": 0.23725228511795698\n",
      "}\n"
     ],
     "name": "stdout"
    }
   ]
  },
  {
   "cell_type": "markdown",
   "metadata": {
    "id": "YwXf3pSsWSLl"
   },
   "source": [
    "##### Result merging"
   ]
  },
  {
   "cell_type": "markdown",
   "metadata": {
    "id": "DkB-y30VWSLl"
   },
   "source": [
    "After the inference process is finished, it's required to merge the results from each project in a single structure. "
   ]
  },
  {
   "cell_type": "code",
   "metadata": {
    "pycharm": {
     "name": "#%%\n"
    },
    "id": "LY5_qITCWSLl"
   },
   "source": [
    "from py_fcm import join_maps\n",
    "github_fcm = join_maps(projects_fcm, ignore_zeros=True, value_strategy='highest')\n"
   ],
   "execution_count": null,
   "outputs": []
  },
  {
   "cell_type": "markdown",
   "metadata": {
    "id": "hsewZ3j8WSLm"
   },
   "source": [
    "##### Final evaluation"
   ]
  },
  {
   "cell_type": "markdown",
   "metadata": {
    "id": "niFHDvCNWSLm"
   },
   "source": [
    "Finally, it's required to run the inference process again to provide a final evaluation for all skills obtained from GitHub."
   ]
  },
  {
   "cell_type": "code",
   "metadata": {
    "pycharm": {
     "name": "#%%\n"
    },
    "id": "mqoIRBBDWSLm",
    "colab": {
     "base_uri": "https://localhost:8080/"
    },
    "executionInfo": {
     "status": "ok",
     "timestamp": 1612027933097,
     "user_tz": 300,
     "elapsed": 8109,
     "user": {
      "displayName": "Jairo Lefebre",
      "photoUrl": "https://lh3.googleusercontent.com/a-/AOh14Gi61js21nBKf-dibWFiPIrDxJnRUovIEtuBZAp-=s64",
      "userId": "07372826646696628377"
     }
    },
    "outputId": "b133886d-cc4a-43cf-bb31-c3f0dc92c8d8"
   },
   "source": [
    "github_fcm.set_map_decision_function(\"EXITED\")\n",
    "github_fcm.run_inference()\n",
    "github_result = github_fcm.get_final_state(concepts_type='any')\n",
    "\n",
    "# print result\n",
    "print('GitHub Evaluation:')\n",
    "print(json.dumps(github_result, indent=4, sort_keys=True))"
   ],
   "execution_count": null,
   "outputs": [
    {
     "output_type": "stream",
     "text": [
      "GitHub Evaluation:\n",
      "{\n",
      "    \"BACKEND\": 0.277067742985496,\n",
      "    \"CSS\": 0.07637583749040781,\n",
      "    \"HTML\": 0.09488326859808649,\n",
      "    \"JAVA\": 0.49912840567710953,\n",
      "    \"JAVASCRIPT\": 0.21050208563385286,\n",
      "    \"WEB_FRONTEND\": 0.23725228511795698\n",
      "}\n"
     ],
     "name": "stdout"
    }
   ]
  },
  {
   "cell_type": "markdown",
   "metadata": {
    "id": "GMlTbFdsWSLn"
   },
   "source": [
    "#### Process GitLab provider"
   ]
  },
  {
   "cell_type": "markdown",
   "metadata": {
    "id": "1oC3xkYdWSLn"
   },
   "source": [
    "To process GitLab data, it's required to load the input JSON and start the process using that structure"
   ]
  },
  {
   "cell_type": "code",
   "metadata": {
    "id": "EguyCr1nWSLn"
   },
   "source": [
    "import json\n",
    "structured_data = json.loads(input_json)\n",
    "for profile in structured_data['profiles']:\n",
    "    if profile['provider'] == 'GITLAB':\n",
    "        gitlab_data = profile"
   ],
   "execution_count": null,
   "outputs": []
  },
  {
   "cell_type": "markdown",
   "metadata": {
    "pycharm": {
     "name": "#%% md\n"
    },
    "id": "-qRDRZtNWSLo"
   },
   "source": [
    "##### Name Homogenization"
   ]
  },
  {
   "cell_type": "markdown",
   "metadata": {
    "pycharm": {
     "name": "#%% md\n"
    },
    "id": "QT1vYhdhWSLo"
   },
   "source": [
    "*The* process is carried out to transform the input skill name to a defined name on the map. Currently, it only sets to upper case the skill name, but this process should be updated."
   ]
  },
  {
   "cell_type": "code",
   "metadata": {
    "pycharm": {
     "name": "#%%\n"
    },
    "id": "tx17yt8iWSLo"
   },
   "source": [
    "for skill in gitlab_data['skills']:\n",
    "    skill['name'] = str(skill['name']).upper()"
   ],
   "execution_count": null,
   "outputs": []
  },
  {
   "cell_type": "markdown",
   "metadata": {
    "id": "3I51YUxZWSLo"
   },
   "source": [
    "##### Input value determination"
   ]
  },
  {
   "cell_type": "markdown",
   "metadata": {
    "id": "F3LcREHtWSLp"
   },
   "source": [
    "According to user contributions to the project, it's required to estimate the real user skills value for each project. Due to GitLat API not providing userAdditions and totalAdditions values, it's required to find the real user contribution using the relation between userCommits and totalCommits."
   ]
  },
  {
   "cell_type": "code",
   "metadata": {
    "pycharm": {
     "name": "#%%\n"
    },
    "id": "_EFKfoMcWSLp",
    "colab": {
     "base_uri": "https://localhost:8080/"
    },
    "executionInfo": {
     "status": "ok",
     "timestamp": 1612027933104,
     "user_tz": 300,
     "elapsed": 8099,
     "user": {
      "displayName": "Jairo Lefebre",
      "photoUrl": "https://lh3.googleusercontent.com/a-/AOh14Gi61js21nBKf-dibWFiPIrDxJnRUovIEtuBZAp-=s64",
      "userId": "07372826646696628377"
     }
    },
    "outputId": "374c07a4-b7f1-4659-e5fc-e34627c4b47a"
   },
   "source": [
    "from collections import defaultdict\n",
    "\n",
    "projects_contribution = {}\n",
    "total_project_bytes = defaultdict(int)\n",
    "\n",
    "for repository in gitlab_data['repositories']:\n",
    "    if repository['userCommits'] != 0 and repository['totalCommits'] != 0:\n",
    "        projects_contribution[repository['id']] = repository['userCommits'] / repository['totalCommits']\n",
    "    else:\n",
    "        projects_contribution[repository['id']] = 1\n",
    "        \n",
    "    if repository['userCommits'] > 0:\n",
    "        commits_contribution[repository['id']] = functions.Activation.sigmoid_hip(repository['userCommits'],\n",
    "                                                                                 COMMITS_LAMBDA_VALUE)\n",
    "    else:\n",
    "        commits_contribution[repository['id']] = 0\n",
    "        \n",
    "    forks_eval = functions.Activation.sigmoid_hip(repository['forks'], COMMITS_LAMBDA_VALUE)\n",
    "    views_eval = functions.Activation.sigmoid_hip(repository['stars'], VIEWS_LAMBDA_VALUE)\n",
    "    stars_eval = functions.Activation.sigmoid_hip(repository['views'], STARS_LAMBDA_VALUE)\n",
    "    \n",
    "    # weighted sum\n",
    "    fork_star_vew_contribution[repository['id']] = 0.4 * forks_eval + 0.4 * views_eval + 0.2 * stars_eval\n",
    "\n",
    "stored_bytes = set(total_project_bytes.keys())\n",
    "for skill in gitlab_data['skills']:\n",
    "    if skill['repositoryId'] not in stored_bytes:\n",
    "        total_project_bytes[skill['repositoryId']] += skill['value']\n",
    "\n",
    "for skill in gitlab_data['skills']:\n",
    "    # store the user contribution factor in that skill for the project with id 'repositoryId'\n",
    "    skill['estimated_contribution'] = ((skill['value'] * projects_contribution[skill['repositoryId']]) /\n",
    "                                     total_project_bytes[skill['repositoryId']])\n",
    "    print(skill['name'], skill['estimated_contribution'], ' => ', total_project_bytes[skill['repositoryId']])"
   ],
   "execution_count": null,
   "outputs": [
    {
     "output_type": "stream",
     "text": [
      "C++ 0.8262000051567552  =>  1447033.99\n",
      "CMAKE 0.17379999484324485  =>  1447033.99\n",
      "JAVA 0.6301882289847351  =>  964763.0\n",
      "HTML 0.0010117710152648888  =>  964763.0\n"
     ],
     "name": "stdout"
    }
   ]
  },
  {
   "cell_type": "markdown",
   "metadata": {
    "id": "NJ9GAncDWSLp"
   },
   "source": [
    "##### Skill evaluation and Inference "
   ]
  },
  {
   "cell_type": "markdown",
   "metadata": {
    "id": "wHMxhUJZWSLq"
   },
   "source": [
    "To execute the evaluation process and skills inference, it's required to carry out the process for each project, as mentioned before. To reduce the noise produced by calculating the skills values using the bytes of code of the project, the const GITLAB_BYTES_DIFFERENCE_RATIO is used.  "
   ]
  },
  {
   "cell_type": "code",
   "metadata": {
    "pycharm": {
     "name": "#%%\n"
    },
    "id": "HtsMbcwzWSLq",
    "colab": {
     "base_uri": "https://localhost:8080/"
    },
    "executionInfo": {
     "status": "ok",
     "timestamp": 1612027933105,
     "user_tz": 300,
     "elapsed": 8091,
     "user": {
      "displayName": "Jairo Lefebre",
      "photoUrl": "https://lh3.googleusercontent.com/a-/AOh14Gi61js21nBKf-dibWFiPIrDxJnRUovIEtuBZAp-=s64",
      "userId": "07372826646696628377"
     }
    },
    "outputId": "aed7674f-4486-4ab9-835b-02fa11963cbe"
   },
   "source": [
    "projects_fcm = []\n",
    "skills_relation = defaultdict(list)\n",
    "\n",
    "# group skills by repository (project)\n",
    "for skill in gitlab_data['skills']:\n",
    "    skills_relation[skill['repositoryId']].append(skill)\n",
    "    \n",
    "for repo_id in skills_relation:\n",
    "    # create a knowledge base by project\n",
    "    print(\"\\n =====> Repository: \", repo_id)\n",
    "    print('Skill name | Estimated contribution | Skill value | Scaled activation value')\n",
    "    projects_fcm.append(load_kb())\n",
    "    \n",
    "    # init all found concepts (skills) on the FCM \n",
    "    for skill in skills_relation[repo_id]:\n",
    "        \n",
    "        # add concept if not exist\n",
    "        projects_fcm[-1].add_concept(skill['name'])\n",
    "        \n",
    "        skill_value = skill['estimated_contribution'] * total_project_bytes[skill['repositoryId']]\n",
    "        \n",
    "        # reduce the skill value from bytes of code to provide a similar value to GitHub\n",
    "        skill_value = skill_value / GITLAB_BYTES_DIFFERENCE_RATIO\n",
    "        \n",
    "        # find the scaled skill values using previously defined parameter value\n",
    "        scaled_skill_value = functions.Activation.sigmoid_hip(skill_value, SRC_LAMBDA_VALUE) \n",
    "        \n",
    "        # use commits contribution to prevent cheating the evaluation process \n",
    "        scaled_skill_value = scaled_skill_value * commits_contribution[skill['repositoryId']]\n",
    "        \n",
    "        if scaled_skill_value > 0.000001:\n",
    "            # the aditional values will only contribute a 10% of the evaluation at most \n",
    "            scaled_skill_value = scaled_skill_value + 0.1 * fork_star_vew_contribution[skill['repositoryId']]\n",
    "        if scaled_skill_value > 1.0:\n",
    "            scaled_skill_value = 1.0\n",
    "            \n",
    "        # init the concept value\n",
    "        projects_fcm[-1].init_concept(skill['name'], scaled_skill_value, required_presence=False)\n",
    "        \n",
    "        #print data\n",
    "        print(skill['name'], '|',skill['estimated_contribution'], '|',skill_value, '|',scaled_skill_value)\n",
    "        \n",
    "    # run the inference process for current FCM\n",
    "    projects_fcm[-1].run_inference()\n",
    "    \n",
    "    # print result\n",
    "    evaluation = projects_fcm[-1].get_final_state(concepts_type='any')\n",
    "    skills = list(evaluation.keys())\n",
    "    for skill in skills:\n",
    "        if evaluation[skill] == 0:\n",
    "            del evaluation[skill]\n",
    "    print(json.dumps(evaluation, indent=4, sort_keys=True))"
   ],
   "execution_count": null,
   "outputs": [
    {
     "output_type": "stream",
     "text": [
      "\n",
      " =====> Repository:  1\n",
      "Skill name | Estimated contribution | Skill value | Scaled activation value\n",
      "C++ | 0.8262000051567552 | 47821.5796 | 0.0\n",
      "CMAKE | 0.17379999484324485 | 10059.78 | 0.0\n",
      "{}\n",
      "\n",
      " =====> Repository:  2\n",
      "Skill name | Estimated contribution | Skill value | Scaled activation value\n",
      "JAVA | 0.6301882289847351 | 24319.2914544 | 0.21830399686009988\n",
      "HTML | 0.0010117710152648888 | 39.044769599999995 | 0.062122024547123775\n",
      "{\n",
      "    \"BACKEND\": 0.12379500431572617,\n",
      "    \"HTML\": 0.062122024547123775,\n",
      "    \"JAVA\": 0.21830399686009988,\n",
      "    \"WEB_FRONTEND\": 0.01552925762203567\n",
      "}\n"
     ],
     "name": "stdout"
    }
   ]
  },
  {
   "cell_type": "markdown",
   "metadata": {
    "id": "X4bFGS48WSLr"
   },
   "source": [
    "##### Result merging"
   ]
  },
  {
   "cell_type": "markdown",
   "metadata": {
    "id": "hipl9yYAWSLr"
   },
   "source": [
    "After the inference process is finished then, it's required to merge the results from each project in a single structure. "
   ]
  },
  {
   "cell_type": "code",
   "metadata": {
    "pycharm": {
     "name": "#%%\n"
    },
    "id": "s2fziVT4WSLr"
   },
   "source": [
    "from py_fcm import join_maps\n",
    "gitlab_fcm = join_maps(projects_fcm, ignore_zeros=True, value_strategy='highest')\n"
   ],
   "execution_count": null,
   "outputs": []
  },
  {
   "cell_type": "markdown",
   "metadata": {
    "id": "GnZgU3MBWSLr"
   },
   "source": [
    "##### Final evaluation"
   ]
  },
  {
   "cell_type": "markdown",
   "metadata": {
    "id": "eGb8cLGQWSLs"
   },
   "source": [
    "Finally, it's required to run the inference process again to provide a final evaluation for all skills obtained from GitLab."
   ]
  },
  {
   "cell_type": "code",
   "metadata": {
    "pycharm": {
     "name": "#%%\n"
    },
    "id": "X3YLPlAkWSLs",
    "colab": {
     "base_uri": "https://localhost:8080/"
    },
    "executionInfo": {
     "status": "ok",
     "timestamp": 1612027933109,
     "user_tz": 300,
     "elapsed": 8083,
     "user": {
      "displayName": "Jairo Lefebre",
      "photoUrl": "https://lh3.googleusercontent.com/a-/AOh14Gi61js21nBKf-dibWFiPIrDxJnRUovIEtuBZAp-=s64",
      "userId": "07372826646696628377"
     }
    },
    "outputId": "0c0baf67-ba2f-47ff-b670-fe1a2bdf04ef"
   },
   "source": [
    "gitlab_fcm.set_map_decision_function(\"EXITED\")\n",
    "gitlab_fcm.run_inference()\n",
    "gitlab_result = gitlab_fcm.get_final_state(concepts_type='any')\n",
    "\n",
    "# print result\n",
    "print('GitLab Evaluation:')\n",
    "print(json.dumps(gitlab_result, indent=4, sort_keys=True))"
   ],
   "execution_count": null,
   "outputs": [
    {
     "output_type": "stream",
     "text": [
      "GitLab Evaluation:\n",
      "{\n",
      "    \"BACKEND\": 0.12379500431572617,\n",
      "    \"HTML\": 0.062122024547123775,\n",
      "    \"JAVA\": 0.21830399686009988,\n",
      "    \"WEB_FRONTEND\": 0.01552925762203567\n",
      "}\n"
     ],
     "name": "stdout"
    }
   ]
  },
  {
   "cell_type": "markdown",
   "metadata": {
    "id": "ZTITTBALWSLs"
   },
   "source": [
    "#### Process StackExchange provider"
   ]
  },
  {
   "cell_type": "markdown",
   "metadata": {
    "id": "VLu8g202WSLt"
   },
   "source": [
    "To process StackExchange data, it's required to load the input JSON and start the process using that structure"
   ]
  },
  {
   "cell_type": "code",
   "metadata": {
    "pycharm": {
     "name": "#%%\n"
    },
    "id": "GCZ9xT8xWSLt"
   },
   "source": [
    "import json\n",
    "structured_data = json.loads(input_json)\n",
    "for profile in structured_data['profiles']:\n",
    "    if profile['provider'] == 'STACK_EXCHANGE':\n",
    "        stack_exchange_data = profile"
   ],
   "execution_count": null,
   "outputs": []
  },
  {
   "cell_type": "markdown",
   "metadata": {
    "id": "0ijPAp6sWSLu"
   },
   "source": [
    "##### Name Homogenization"
   ]
  },
  {
   "cell_type": "markdown",
   "metadata": {
    "id": "ga4fIISIWSLu"
   },
   "source": [
    "The process is carried out to transform the input skill name to a defined name on the map. Currently, it only sets to upper case the skill name, but this process should include skills synonyms extraction from StackExchange API."
   ]
  },
  {
   "cell_type": "code",
   "metadata": {
    "pycharm": {
     "name": "#%%\n"
    },
    "id": "RMTpFQCUWSLu"
   },
   "source": [
    "for skill in stack_exchange_data['skills']:\n",
    "    skill['name'] = str(skill['name']).upper()"
   ],
   "execution_count": null,
   "outputs": []
  },
  {
   "cell_type": "markdown",
   "metadata": {
    "id": "bMftbtFDWSLu"
   },
   "source": [
    "##### Skill evaluation and Inference "
   ]
  },
  {
   "cell_type": "markdown",
   "metadata": {
    "id": "prJRshA9WSLu"
   },
   "source": [
    "Since StackExchange provides an explicit set of skills with a score, it's required only to normalize the input for the evaluation process and also use the user reputation to increase the final evaluation value."
   ]
  },
  {
   "cell_type": "code",
   "metadata": {
    "pycharm": {
     "name": "#%%\n"
    },
    "id": "zRsyXjygWSLv",
    "colab": {
     "base_uri": "https://localhost:8080/"
    },
    "executionInfo": {
     "status": "ok",
     "timestamp": 1612027933113,
     "user_tz": 300,
     "elapsed": 8070,
     "user": {
      "displayName": "Jairo Lefebre",
      "photoUrl": "https://lh3.googleusercontent.com/a-/AOh14Gi61js21nBKf-dibWFiPIrDxJnRUovIEtuBZAp-=s64",
      "userId": "07372826646696628377"
     }
    },
    "outputId": "68ba5dd1-6dd6-4548-b1e5-51a32597cfc9"
   },
   "source": [
    "stack_exchange_fcm = load_kb()\n",
    "\n",
    "skills_relation = defaultdict(list)\n",
    "\n",
    "for skill in stack_exchange_data['skills']:\n",
    "    scaled_skill_value = functions.Activation.sigmoid_hip(skill['value'], STACK_EXC_SCORE_LAMBDA)\n",
    "    stack_exchange_fcm.add_concept(skill['name'])\n",
    "    stack_exchange_fcm.init_concept(skill['name'], scaled_skill_value, required_presence=False)\n",
    "\n",
    "stack_exchange_fcm.run_inference()\n",
    "\n",
    "# print result \n",
    "print('StackExchange Evaluation:')\n",
    "evaluation = stack_exchange_fcm.get_final_state(concepts_type='any')\n",
    "skills = list(evaluation.keys())\n",
    "for skill in skills:\n",
    "    if evaluation[skill] == 0:\n",
    "        del evaluation[skill]\n",
    "print(json.dumps(evaluation, indent=4, sort_keys=True))"
   ],
   "execution_count": null,
   "outputs": [
    {
     "output_type": "stream",
     "text": [
      "StackExchange Evaluation:\n",
      "{\n",
      "    \"ANGULAR\": 0.9219938141795413,\n",
      "    \"BACKEND\": 0.2822632934068894,\n",
      "    \"CHROMIUM\": 0.10983794256694948,\n",
      "    \"DOCKER\": 0.036744408551626036,\n",
      "    \"GITLAB\": 0.0030634036505911917,\n",
      "    \"HIGHCHARTS\": 0.12494362289463629,\n",
      "    \"INTELLIJ-IDEA\": 0.05813921149338061,\n",
      "    \"JAVA\": 0.4969800066123214,\n",
      "    \"JAVASCRIPT\": 0.9979592271106883,\n",
      "    \"MATPLOTLIB\": 0.0030634036505911917,\n",
      "    \"PYTHON\": 0.021440606314772598,\n",
      "    \"REST\": 0.2660831567440386,\n",
      "    \"SCRIPTING\": 0.005788899039077104,\n",
      "    \"UNIT-TESTING\": 0.06119171666225524,\n",
      "    \"WEB_FRONTEND\": 0.7607357507285277\n",
      "}\n"
     ],
     "name": "stdout"
    }
   ]
  },
  {
   "cell_type": "markdown",
   "metadata": {
    "id": "tpXjlhS8WSLv"
   },
   "source": [
    "StackExchange is not a project-oriented platform, for that reason the merge process is not required."
   ]
  },
  {
   "cell_type": "markdown",
   "metadata": {
    "id": "xoaifRurWSLv"
   },
   "source": [
    "##### Final evaluation"
   ]
  },
  {
   "cell_type": "markdown",
   "metadata": {
    "id": "0hz8p93tWSLw"
   },
   "source": [
    "Finally, it's required to add the contribution from user reputation to the final evaluation. The reputation's contribution will be up to a 15% from the maximum evaluation.  "
   ]
  },
  {
   "cell_type": "code",
   "metadata": {
    "pycharm": {
     "name": "#%%\n"
    },
    "id": "pTd-15C7WSLw",
    "colab": {
     "base_uri": "https://localhost:8080/"
    },
    "executionInfo": {
     "status": "ok",
     "timestamp": 1612027933120,
     "user_tz": 300,
     "elapsed": 8068,
     "user": {
      "displayName": "Jairo Lefebre",
      "photoUrl": "https://lh3.googleusercontent.com/a-/AOh14Gi61js21nBKf-dibWFiPIrDxJnRUovIEtuBZAp-=s64",
      "userId": "07372826646696628377"
     }
    },
    "outputId": "5d3c217b-ba6f-4599-c3ae-0ca5ab239141"
   },
   "source": [
    "profile_reputation = stack_exchange_data['stats']['reputation']\n",
    "reputation_contribution = functions.Activation.sigmoid_hip(profile_reputation, STACK_EXC_REPUTATION_LAMBDA)\n",
    "\n",
    "stack_exchange_fcm.run_inference()\n",
    "stack_exchange_result = stack_exchange_fcm.get_final_state(concepts_type='any')\n",
    "\n",
    "# add reputation contribution\n",
    "for curr_skill in stack_exchange_result:\n",
    "    if stack_exchange_result[curr_skill] > 0:\n",
    "        if stack_exchange_result[curr_skill] + (0.2 * reputation_contribution) < 1.0:\n",
    "            stack_exchange_result[curr_skill] = stack_exchange_result[curr_skill] + (0.15 * reputation_contribution)\n",
    "        else:\n",
    "            stack_exchange_result[curr_skill] = 1.0\n",
    "\n",
    "# print results\n",
    "evaluation = stack_exchange_fcm.get_final_state(concepts_type='any')\n",
    "skills = list(evaluation.keys())\n",
    "for skill in skills:\n",
    "    if evaluation[skill] == 0:\n",
    "        del evaluation[skill]\n",
    "print(json.dumps(evaluation, indent=4, sort_keys=True))"
   ],
   "execution_count": null,
   "outputs": [
    {
     "output_type": "stream",
     "text": [
      "{\n",
      "    \"ANGULAR\": 0.9219938141795413,\n",
      "    \"BACKEND\": 0.2822632934068894,\n",
      "    \"CHROMIUM\": 0.10983794256694948,\n",
      "    \"DOCKER\": 0.036744408551626036,\n",
      "    \"GITLAB\": 0.0030634036505911917,\n",
      "    \"HIGHCHARTS\": 0.12494362289463629,\n",
      "    \"INTELLIJ-IDEA\": 0.05813921149338061,\n",
      "    \"JAVA\": 0.4969800066123214,\n",
      "    \"JAVASCRIPT\": 0.9979592271106883,\n",
      "    \"MATPLOTLIB\": 0.0030634036505911917,\n",
      "    \"PYTHON\": 0.021440606314772598,\n",
      "    \"REST\": 0.2660831567440386,\n",
      "    \"SCRIPTING\": 0.005788899039077104,\n",
      "    \"UNIT-TESTING\": 0.06119171666225524,\n",
      "    \"WEB_FRONTEND\": 0.7607357507285277\n",
      "}\n"
     ],
     "name": "stdout"
    }
   ]
  },
  {
   "cell_type": "markdown",
   "metadata": {
    "id": "zDvtfe1GWSLw"
   },
   "source": [
    "#### User final evaluation  "
   ]
  },
  {
   "cell_type": "markdown",
   "metadata": {
    "id": "J64sWTyTWSLx"
   },
   "source": [
    "To provide a final skill evaluation for the user, it's required to merge all providers evaluation results in a single structure  "
   ]
  },
  {
   "cell_type": "code",
   "metadata": {
    "pycharm": {
     "name": "#%%\n"
    },
    "id": "ytjjlKY7WSLx",
    "colab": {
     "base_uri": "https://localhost:8080/"
    },
    "executionInfo": {
     "status": "ok",
     "timestamp": 1612027933121,
     "user_tz": 300,
     "elapsed": 8060,
     "user": {
      "displayName": "Jairo Lefebre",
      "photoUrl": "https://lh3.googleusercontent.com/a-/AOh14Gi61js21nBKf-dibWFiPIrDxJnRUovIEtuBZAp-=s64",
      "userId": "07372826646696628377"
     }
    },
    "outputId": "0705ead0-01f6-4f34-fa7d-3df6ab005d14"
   },
   "source": [
    "providers_evaluations = [github_fcm, gitlab_fcm, stack_exchange_fcm]\n",
    "final_fcm = join_maps(providers_evaluations)\n",
    "final_fcm.set_map_decision_function(\"EXITED\")\n",
    "final_fcm.run_inference()\n",
    "final_evaluation = final_fcm.get_final_state(concepts_type='any')\n",
    "final_skills_evaluation = {}\n",
    "\n",
    "# remove zero evaluated skills\n",
    "for skill in final_evaluation:\n",
    "    if final_evaluation[skill] != 0:\n",
    "        final_skills_evaluation[skill] = final_evaluation[skill]\n",
    "\n",
    "# print results \n",
    "print(json.dumps(final_skills_evaluation, indent=4, sort_keys=True))"
   ],
   "execution_count": null,
   "outputs": [
    {
     "output_type": "stream",
     "text": [
      "{\n",
      "    \"ANGULAR\": 0.9219938141795413,\n",
      "    \"BACKEND\": 0.23322695875793634,\n",
      "    \"CHROMIUM\": 0.10983794256694948,\n",
      "    \"CSS\": 0.03818791874520391,\n",
      "    \"DOCKER\": 0.036744408551626036,\n",
      "    \"GITLAB\": 0.0030634036505911917,\n",
      "    \"HIGHCHARTS\": 0.12494362289463629,\n",
      "    \"HTML\": 0.05233509771507009,\n",
      "    \"INTELLIJ-IDEA\": 0.05813921149338061,\n",
      "    \"JAVA\": 0.4048041363831769,\n",
      "    \"JAVASCRIPT\": 0.6042306563722706,\n",
      "    \"MATPLOTLIB\": 0.0030634036505911917,\n",
      "    \"PYTHON\": 0.021440606314772598,\n",
      "    \"REST\": 0.2660831567440386,\n",
      "    \"SCRIPTING\": 0.005788899039077104,\n",
      "    \"UNIT-TESTING\": 0.06119171666225524,\n",
      "    \"WEB_FRONTEND\": 0.5519165509642777\n",
      "}\n"
     ],
     "name": "stdout"
    }
   ]
  },
  {
   "cell_type": "markdown",
   "metadata": {
    "id": "PCvTTi33WSLx"
   },
   "source": [
    "As can be observed, the final ealuation uses all user input skills and provides an evaluation for them according to each provider. Also, it adds some skills infered from input data. All output values are normalized in (0,1) numeric interval that allow to use the desired scale for output values."
   ]
  }
 ]
}