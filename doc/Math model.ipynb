{
 "cells": [
  {
   "cell_type": "markdown",
   "metadata": {},
   "source": [
    "# Skills evaluator math model"
   ]
  },
  {
   "cell_type": "markdown",
   "metadata": {},
   "source": [
    "## Problem description"
   ]
  },
  {
   "cell_type": "markdown",
   "metadata": {},
   "source": [
    "Is required to provide the engineer's skills evaluation for Cuban Engineer platform users. The skills evaluation process use the data extracted from Cuban Engineer providers to use only verified data sources. Since all the sources provide custom skills measures is required to process all providers data, join repeated skills data, summarize the output in a single score per skill and infer skills nonexplicitly provided."
   ]
  },
  {
   "cell_type": "markdown",
   "metadata": {},
   "source": [
    "### Objectives"
   ]
  },
  {
   "cell_type": "markdown",
   "metadata": {},
   "source": [
    "* Provide a fair engineer skills evaluation \n",
    "* Preprocess input data according to each provider API \n",
    "* Build a summarized evaluation model with all engineer skills extracted from different providers\n",
    "* Infer verified but non-explicitly provided skills from the data"
   ]
  },
  {
   "cell_type": "markdown",
   "metadata": {},
   "source": [
    "### Hypothesis"
   ]
  },
  {
   "cell_type": "markdown",
   "metadata": {},
   "source": [
    "All **Cuban Engineer** users are mainly programming related professionals, so they must know some programming language, a set of related technologies and they'll have published pieces of information about his skills. "
   ]
  },
  {
   "cell_type": "markdown",
   "metadata": {},
   "source": [
    "### Objects description and acquired data"
   ]
  },
  {
   "cell_type": "markdown",
   "metadata": {},
   "source": [
    "For the evaluation process the **Objects** are the Cuban Engineer user's data from each provider.\n",
    "\n",
    "The current providers are: \n",
    "* GitHub\n",
    "* GitLab\n",
    "* StackExchange\n"
   ]
  },
  {
   "cell_type": "markdown",
   "metadata": {
    "pycharm": {
     "name": "#%% md\n"
    }
   },
   "source": [
    "#### GitHub"
   ]
  },
  {
   "cell_type": "markdown",
   "metadata": {
    "pycharm": {
     "name": "#%% md\n"
    }
   },
   "source": [
    "Is a VCS for developers that store code statistics and user's collaborative behaviour.\n",
    "\n",
    "**Provided data**\n",
    "\n",
    "* **User followers**: User followers count. An integer value.\n",
    "* **A set of repositories**: Each repository have a set of code statistics .\n",
    "* **Repository ID**: An identifyer.\n",
    "* **Repository Forked**: Define if the repository is forked or not. Boolean value.\n",
    "* **Repository Contributors**: Amount of project contributors. An integer value.\n",
    "* **Repository Stars**: Amount of project stars. An integer value.\n",
    "* **Repository Forks**: Amount of project forks. An integer value.\n",
    "* **Repository Views**: Amount of project Views. An integer value.\n",
    "* **Repository total commits**: Amount of project commits. An integer value.\n",
    "* **Repository user commits**: Amount of user commits. An integer value.\n",
    "* **Repository total addtitions**: Amount of bytes of code added to the project. An integer value.\n",
    "* **Repository user additions**: Amount of bytes of code added by the user. An integer value.\n",
    "* **A set of skills**: Programming languages or scripts used in each reposotiry named Skill in this context.\n",
    "* **Skill repository ID**: A repository identifyer reference.\n",
    "* **Skill name**: Programming language or script used. A string value.\n",
    "* **Skill value**: Amount of bytes of code for that programming language or script used. An integer value.\n"
   ]
  },
  {
   "cell_type": "markdown",
   "metadata": {
    "pycharm": {
     "name": "#%% md\n"
    }
   },
   "source": [
    "#### GitLab"
   ]
  },
  {
   "cell_type": "markdown",
   "metadata": {
    "pycharm": {
     "name": "#%% md\n"
    }
   },
   "source": [
    "Is a VCS for developers that store code statistics and user's collaborative behaviour \n",
    "\n",
    "**Provided data**\n",
    "* **User followers**: User followers count. An integer value.\n",
    "* **A set of repositories**: Each repository have a set of code statistics .\n",
    "* **Repository ID**: An identifyer.\n",
    "* **Repository Forked**: Define if the repository is forked or not. Boolean value.\n",
    "* **Repository Contributors**: Amount of project contributors. An integer value.\n",
    "* **Repository Stars**: Amount of project stars. An integer value.\n",
    "* **Repository Forks**: Amount of project forks. An integer value.\n",
    "* **Repository Views**: Amount of project Views. An integer value.\n",
    "* **Repository total commits**: Amount of project commits. An integer value.\n",
    "* **Repository user commits**: Amount of user commits. An integer value.\n",
    "* **A set of skills**: Programming languages or scripts used in each reposotiry named Skill in this context.\n",
    "* **Skill repository ID**: A repository identifyer reference.\n",
    "* **Skill name**: Programming language or script used. A string value.\n",
    "* **Skill value**: Programming language or script percent of usage in the project. A real value.\n"
   ]
  },
  {
   "cell_type": "markdown",
   "metadata": {
    "pycharm": {
     "name": "#%% md\n"
    }
   },
   "source": [
    "#### StackExchange"
   ]
  },
  {
   "cell_type": "markdown",
   "metadata": {
    "pycharm": {
     "name": "#%% md\n"
    }
   },
   "source": [
    "Is a Questions-Answers platform to share knowledge between the users\n",
    "\n",
    "**Provided data**\n",
    "-> TODO\n",
    "* **User reputation**: \n",
    "* **A set of skills**:\n",
    "* **Skill name**: \n",
    "* **Skill value**: \n"
   ]
  },
  {
   "cell_type": "markdown",
   "metadata": {},
   "source": [
    "### Expected results and evaluation"
   ]
  },
  {
   "cell_type": "markdown",
   "metadata": {},
   "source": [
    "The output is a set of evaluated skills for each Cuban Engineer user that follows the next requirements: \n",
    "\n",
    "* A evaluated skill is unique for the user. \n",
    "* The skill value represent the user final score for all providers that provide information.\n",
    "* The skills value output must be scaled to user desired range of values \n",
    "\n",
    "The evaluator result must be tested with a data set extracted from know users of the platform. The test set will not provide an evaluation value, instead will sort the engineers according to several skills and an overall evaluation. The evaluator result should have a similar output when the values are sorted in the same way that the test set. This process will define the evaluation algorithm quality."
   ]
  },
  {
   "cell_type": "markdown",
   "metadata": {},
   "source": [
    "## Problem formalization"
   ]
  },
  {
   "cell_type": "markdown",
   "metadata": {},
   "source": [
    "### Objectives formalization"
   ]
  },
  {
   "cell_type": "markdown",
   "metadata": {},
   "source": [
    "The algorithm must use the data from different providers to estimate how good is an engineer in a set of skills explicit or not in provided data. To achieve this goal is required several processing steps: \n",
    "\n",
    "* **Name Homogenization**: Transform the skills name to a single structure due to different providers may name the same skill in different ways (e.g. 'C++' and 'Cpp')\n",
    "* **Input value determination**: The input value definition is required for each provider. Could be a single value (e.g. StackExchange) or a linear combination of values (e.g. GitHub).\n",
    "* **Vaue Normalization**: Transform the skill value from different providers to the same numerical scale to allow a more precise comparison between input values.\n",
    "* **Skill Inference**: Using the data provided infer non-explicit skills and their evaluation keeping in mind that new skills must be valid, so concepts like probability or correlation must not be used in the inference process. \n",
    "* **Result merging**: Since some providers have a project structured data, is required to process and summarize the data of each project to achieve a final provider evaluation. The same is required to define user final skill evaluation using the result of the different providers. Is required to define the merge process between projects and providers to achieve a fair and final result."
   ]
  },
  {
   "cell_type": "markdown",
   "metadata": {},
   "source": [
    "### Data representation"
   ]
  },
  {
   "cell_type": "markdown",
   "metadata": {},
   "source": [
    "The input data for each user is structured in a JSON format like the following example:"
   ]
  },
  {
   "cell_type": "code",
   "execution_count": 1,
   "metadata": {},
   "outputs": [],
   "source": [
    "input_json = \"\"\"\n",
    "    {\n",
    "      \"name\": \"John Doe\",\n",
    "      \"nick\": \"JohnDoe\",\n",
    "      \"email\": \"johndoe@gmail.com\",\n",
    "      \"profiles\": [\n",
    "        {\n",
    "          \"provider\": \"STACK_EXCHANGE\",\n",
    "          \"stats\": {\n",
    "            \"reputation\": \"17\"\n",
    "          },\n",
    "          \"skills\": [\n",
    "            {\n",
    "              \"repositoryId\": 0,\n",
    "              \"name\": \"angular\",\n",
    "              \"value\": 2.0\n",
    "            },\n",
    "            {\n",
    "              \"repositoryId\": 0,\n",
    "              \"name\": \"unit-testing\",\n",
    "              \"value\": 2.0\n",
    "            },\n",
    "            {\n",
    "              \"repositoryId\": 0,\n",
    "              \"name\": \"chromium\",\n",
    "              \"value\": 1.0\n",
    "            },\n",
    "            {\n",
    "              \"repositoryId\": 0,\n",
    "              \"name\": \"docker\",\n",
    "              \"value\": 1.0\n",
    "            },\n",
    "            {\n",
    "              \"repositoryId\": 0,\n",
    "              \"name\": \"gitlab\",\n",
    "              \"value\": 1.0\n",
    "            },\n",
    "            {\n",
    "              \"repositoryId\": 0,\n",
    "              \"name\": \"highcharts\",\n",
    "              \"value\": 1.0\n",
    "            },\n",
    "            {\n",
    "              \"repositoryId\": 0,\n",
    "              \"name\": \"intellij-idea\",\n",
    "              \"value\": 1.0\n",
    "            },\n",
    "            {\n",
    "              \"repositoryId\": 0,\n",
    "              \"name\": \"java\",\n",
    "              \"value\": 1.0\n",
    "            },\n",
    "            {\n",
    "              \"repositoryId\": 0,\n",
    "              \"name\": \"javascript\",\n",
    "              \"value\": 1.0\n",
    "            },\n",
    "            {\n",
    "              \"repositoryId\": 0,\n",
    "              \"name\": \"matplotlib\",\n",
    "              \"value\": 1.0\n",
    "            },\n",
    "            {\n",
    "              \"repositoryId\": 0,\n",
    "              \"name\": \"python\",\n",
    "              \"value\": 1.0\n",
    "            },\n",
    "            {\n",
    "              \"repositoryId\": 0,\n",
    "              \"name\": \"rest\",\n",
    "              \"value\": 1.0\n",
    "            }\n",
    "          ]\n",
    "        },\n",
    "        {\n",
    "          \"provider\": \"GITHUB\",\n",
    "          \"stats\": {\n",
    "            \"followers\": \"2\"\n",
    "          },\n",
    "          \"repositories\": [\n",
    "            {\n",
    "              \"id\": 1,\n",
    "              \"isFork\": false,\n",
    "              \"contributors\": 1,\n",
    "              \"totalCommits\": 30,\n",
    "              \"userCommits\": 19,\n",
    "              \"forks\": 0,\n",
    "              \"stars\": 0,\n",
    "              \"views\": 0,\n",
    "              \"userAdditions\": 175800,\n",
    "              \"totalAdditions\": 297600\n",
    "            },\n",
    "            {\n",
    "              \"id\": 2,\n",
    "              \"isFork\": false,\n",
    "              \"contributors\": 0,\n",
    "              \"totalCommits\": 69,\n",
    "              \"userCommits\": 69,\n",
    "              \"forks\": 3,\n",
    "              \"stars\": 10,\n",
    "              \"views\": 7,\n",
    "              \"userAdditions\": 33486,\n",
    "              \"totalAdditions\": 33486\n",
    "            }\n",
    "          ],\n",
    "          \"skills\": [\n",
    "            {\n",
    "              \"repositoryId\": 1,\n",
    "              \"name\": \"Java\",\n",
    "              \"value\": 297600.0\n",
    "            },\n",
    "            {\n",
    "              \"repositoryId\": 2,\n",
    "              \"name\": \"JavaScript\",\n",
    "              \"value\": 24444.0\n",
    "            },\n",
    "            {\n",
    "              \"repositoryId\": 2,\n",
    "              \"name\": \"HTML\",\n",
    "              \"value\": 5357.0\n",
    "            },\n",
    "            {\n",
    "              \"repositoryId\": 2,\n",
    "              \"name\": \"CSS\",\n",
    "              \"value\": 2344.0\n",
    "            }\n",
    "          ]\n",
    "        },\n",
    "        {\n",
    "          \"provider\": \"GITLAB\",\n",
    "          \"stats\": {},\n",
    "          \"repositories\": [\n",
    "            {\n",
    "              \"id\": 1,\n",
    "              \"isFork\": false,\n",
    "              \"contributors\": 0,\n",
    "              \"totalCommits\": 11,\n",
    "              \"userCommits\": 11,\n",
    "              \"forks\": 0,\n",
    "              \"stars\": 0,\n",
    "              \"views\": 0\n",
    "            },\n",
    "            {\n",
    "              \"id\": 2,\n",
    "              \"isFork\": false,\n",
    "              \"contributors\": 0,\n",
    "              \"totalCommits\": 25,\n",
    "              \"userCommits\": 20,\n",
    "              \"forks\": 0,\n",
    "              \"stars\": 0,\n",
    "              \"views\": 0\n",
    "            },\n",
    "            {\n",
    "              \"id\": 3,\n",
    "              \"isFork\": false,\n",
    "              \"contributors\": 0,\n",
    "              \"totalCommits\": 0,\n",
    "              \"userCommits\": 0,\n",
    "              \"forks\": 0,\n",
    "              \"stars\": 0,\n",
    "              \"views\": 0\n",
    "            }\n",
    "          ],\n",
    "          \"skills\": [\n",
    "            {\n",
    "              \"repositoryId\": 1,\n",
    "              \"name\": \"Java\",\n",
    "              \"value\": 96.55\n",
    "            },\n",
    "            {\n",
    "              \"repositoryId\": 1,\n",
    "              \"name\": \"HTML\",\n",
    "              \"value\": 3.45\n",
    "            },\n",
    "            {\n",
    "              \"repositoryId\": 2,\n",
    "              \"name\": \"Java\",\n",
    "              \"value\": 100.0\n",
    "            }\n",
    "          ]\n",
    "        }\n",
    "      ]\n",
    "    }\n",
    "\"\"\"\n"
   ]
  },
  {
   "cell_type": "markdown",
   "metadata": {},
   "source": [
    "The JSON format follows the data description provided before. "
   ]
  },
  {
   "cell_type": "markdown",
   "metadata": {},
   "source": [
    "### Data properties"
   ]
  },
  {
   "cell_type": "markdown",
   "metadata": {},
   "source": [
    "As can be appreciated in the previous section, each provider has distinct data that must be processed independently. For that reason is required to describe the data properties for each provider. Since each provider data is described in a previous section, this section will be focused on the main differences between them.\n"
   ]
  },
  {
   "cell_type": "markdown",
   "metadata": {
    "pycharm": {
     "name": "#%% md\n"
    }
   },
   "source": [
    "#### GitHub and GitLab"
   ]
  },
  {
   "cell_type": "markdown",
   "metadata": {
    "pycharm": {
     "name": "#%% md\n"
    }
   },
   "source": [
    "The data describe user code stats related to a ser of projects. Also, each project has a set of related skills. Following the meaning of most important fields in the problem context are presented:\n",
    "\n",
    "* **User followers**: A good programmer should have more followers but is not an assurance.\n",
    "* **Repository Forked**: A forked project means that the main ideas of the project are not from the user and could be used to reduce the relevance of the project for the user.\n",
    "* **Repository Contributors**: A project with more contributors means that is teamwork project, but  user contributions are reduced due to project commits are not only from the user\n",
    "* **Repository Stars**: Usually, a good project is rated by other users increasing project relevance.\n",
    "* **Repository Forks**: A project with interesting ideas is usually forked by other users increasing project relevance\n",
    "* **Repository Views**: Users interested in the project behaviour and evolution use the views to keep track of it. \n",
    "* **Repository user commits**: A well-worked project should have more commits from the user. This value can be used to get an idea about user contributions to the project.\n",
    "* **Repository user additions**: Measure the amount of bytes of conde added by the user.\n",
    "\n",
    "All described repository fields can be used to define the relevance of the project and user contributions to it.\n",
    "\n",
    "**GitLab Differences**\n",
    "\n",
    "The data that describes GitLab is very similar to GitHub. The main differences are that GitLab does not provide user and total additions and the value of the skills is the percent of usage in the project.\n",
    "\n"
   ]
  },
  {
   "cell_type": "markdown",
   "metadata": {
    "pycharm": {
     "name": "#%% md\n"
    }
   },
   "source": [
    "#### StackExchange"
   ]
  },
  {
   "cell_type": "markdown",
   "metadata": {
    "pycharm": {
     "name": "#%% md\n"
    }
   },
   "source": [
    "-> TODO"
   ]
  },
  {
   "cell_type": "markdown",
   "metadata": {},
   "source": [
    "## Solution strategy"
   ]
  },
  {
   "cell_type": "markdown",
   "metadata": {},
   "source": [
    "Based on the problem provided description is required to define a solution model. The problem has the following information levels in the evaluation process:\n",
    "\n",
    "* **Project**: The data about a project for project structured providers\n",
    "* **Provider**: Provider data or projects summarization for project structured providers\n",
    "* **User**: The user-level summarizes the data from each provider to achieve a final result\n",
    "\n",
    "To provide an accurate solution is required to process the data in a bottom-up data flow making a partial evaluation until the final (user) level."
   ]
  },
  {
   "cell_type": "markdown",
   "metadata": {},
   "source": [
    "### Problem formalization"
   ]
  },
  {
   "cell_type": "markdown",
   "metadata": {},
   "source": [
    "In **Cuban Engineer** platform is required to find non-explicit skills and evaluate all of them using the data from stored providers as input data. Since **Cuban Engineer** platform have not a previously evaluated set of users a supervised learning approach can not be used. Also, all the system data is required to be updated new skills and relations between them change frequently and the relations between explicit and non-explicit skills are not contained in a centralized data source. \n",
    "\n",
    "*To provide a solution to the problem is decided to use a knowledge-based approach where the skills and their relations are represented in a knowledge base that can be used to evaluate and make skills inference.* \n",
    "\n",
    "To represent the knowledge exist several structures like rules, frames and networks. The main drawback about rules and frames is related to the knowledge base size, due a big knowledge base is very complicated to maintain and when a knowledge base achieve more than 100 rules is recommended to change the knowledge representation structure. In this problem, the complexity of the knowledge base is unknow apriori. \n",
    "\n",
    "The network's approach, also named graph approach, is easier to maintain due is not required to know and understand the whole system behaviour and the desired behaviour can be achieved updating a sub-graph in the model. For this approach two of the most relevant methods are the Bayesian Networks and the Fuzzy Cognitive Maps. The Bayesian Networks are represented as Trees, so a common base concept that is related with two other concepts must be repeated in the structure making the knowledge base size bigger, also the concept represented in the edges is probability and in current problem context, the skill knowledge assurance is required and not the probability that the user knows something. On the other hand, the Fuzzy Cognitive Maps is a digraph structured knowledge base that represents causality and the knowledge base maintaining process is more simple than other structures. \n",
    "\n",
    "*For this problem Fuzzy Cognitive Maps will be used to represent the knowledge base and solve the problem described*\n",
    "\n",
    "#### Fuzzy Cognitive Maps (FCM)\n",
    "\n",
    "Mathematically it can be defined as the 4-tuple $(C,W,A,f)$, where:\n",
    "\n",
    "* $C=(c_1,c_2,c_3, ~...~ c_n)$ is the set of nodes of the graph\n",
    "* $W:(c_i,c_j)\\to w_{ij}$ is the function that determines the value of the causal relation between the nodes $c_i$ and $c_j$\n",
    "* $A:(c_i,t) \\to A^t_i, A \\in R$ is the function used to determine the activation degree of each system concept over time $t=(1,2,3, ~...~T)$\n",
    "* $f \\in [-1, 1]$ is the function used to limit each concept activation range in a desired interval $[-1, 1]$\n",
    "\n",
    "Structurally a FCM can be represented as a digraph where the value of the causal relation between two nodes $c_i$ and $c_j$ is represented in component $w_{ij}$ that belongs to weight matrix $W$. \n",
    "\n",
    "The FCM's inference process is the propagation of each node weight to his neighbours over time. This process may be endless because the FCM topology may contain loops like a recurrent neural network. For this reason, two stop criteria are defined, a maximum number of iterations $T$ and a minimum difference between nodes vector $\\alpha$ in the times $t$ y $t+1$. The inference process is summarized in the following equation. \n",
    "$$$$\n",
    "$$A^{(t+1)}_i = f\\left(\\sum_{j=1}^N w_{ij}*A^{(t)}_j \\right) , i \\neq j$$\n",
    "\n",
    "In the current problem context, the FCM will represent the skills as the map concepts and the relations between skills as the edges. A verified skill value will be set and transformed to corresponding concept initial activation value. After all initial values are set the inference process will be executed until a stop criteria is fulfilled. Finally, the greatest activation value of each node is selected as the evaluation for the user skills. The nodes with an activation value greater than zero are the user final skills and corresponding activation value will be the skill evaluation."
   ]
  },
  {
   "cell_type": "markdown",
   "metadata": {},
   "source": [
    "### Processing model"
   ]
  },
  {
   "cell_type": "markdown",
   "metadata": {},
   "source": [
    "The algorithm will take as input a JSON object with the same structure as *Data representation* section example. The evaluation and inference process will be carried out in several steps. The experts will build a single knowledge base to represent the skills that the user may have and the relations between them. According to the information levels described above and the provider's structure, several processing steps are required, but all steps are executed with the same knowledge base. \n",
    "To move the information from a level the next one is required to merge the current level data, so to provide a project-based provider evaluation is required to merge the inference result from the contained projects and run the inference process again due to new results may appear. The same process must be done in the user level to provide a final user skills evaluation. "
   ]
  },
  {
   "cell_type": "markdown",
   "metadata": {},
   "source": [
    "#### FCM parameters selection "
   ]
  },
  {
   "cell_type": "markdown",
   "metadata": {},
   "source": [
    "Previously a brief FCM description was provided but to use the algorithm is required to define the specific behaviour in the problem context. To execute all defined processing step is required to use a tool that allows to load a knowledge base, execute the inference process and merge different maps in a new single structure. For that purpose, the library Py-FCM can be used."
   ]
  },
  {
   "cell_type": "markdown",
   "metadata": {},
   "source": [
    "##### Install Py-FCM and define used params"
   ]
  },
  {
   "cell_type": "code",
   "execution_count": 2,
   "metadata": {},
   "outputs": [],
   "source": [
    "# install script\n",
    "import sys\n",
    "import subprocess\n",
    "# subprocess.check_call([sys.executable, \"-m\", \"pip\", \"install\", 'Py-FCM'])"
   ]
  },
  {
   "cell_type": "markdown",
   "metadata": {},
   "source": [
    "The Py-FCM library provides several parameters to define FCM behaviour:\n",
    "\n",
    "* Maximum iterations: max_it=200\n",
    "* Stability difference: stab_diff=0.001\n",
    "* Use concepts memory: mem_influence=False\n",
    "* Decision function: decision_function=\"exited\"\n",
    "* Default activation function: activ_function=\"sigmoid_hip\"\n",
    "\n",
    "**Params detailed description:**\n",
    "\n",
    "*max_it*: Is recommended to set max_it in a value greater than 100 to allow the map reach a stabilized state, but if the value is too big and a stable state is not reached then the inference process will be longer.\n",
    "\n",
    "*stab_diff*: Is recommended to set a value lower than 0.1 to allow the map reach a true stabilized state a greater value could mislead to a false stable state and a not desired solution. Also is not recommended to set a value too small when using an asymptotic function like sigmoid or a logarithmic-based function due will take more time to achieve that states difference and the inference process will be longer.\n",
    "\n",
    "*mem_influence*: Define if the current concept value is used or not in the next iteration. In the problem context,  must be set as *False* (default value) to prevent noise in the results. E.g. if one skill is set to a value $x$ as initial state and is influenced in $y$ by other skill in the next iteration the concept value will be $x+y$ and may continue growing during the inference process. \n",
    "\n",
    "*decision_function*: At the end of the inference process is required to define the way to select the concept (skill) value according to its behaviour. Py-FCM allows three ways to define the final result *average* (by default), *last* and *exited*. In problem context *exited* must be used to select the highest concept value during the inference process this selection together with no memory influence will allows achieving a fair skill final evaluation. \n",
    "\n",
    "*activ_function*: In the problem context the skills are evaluated using data from providers, so there is a limit to how much can be extracted from data and also for the knowledge about some skill. The best way to represent this behaviour are using an asymptotic function. Py-FCM allows to use two different asymptotic functions *sigmoid* and *sigmoid_hip* (by default) that most simply are represented like:"
   ]
  },
  {
   "cell_type": "code",
   "execution_count": 3,
   "metadata": {},
   "outputs": [
    {
     "data": {
      "text/plain": [
       "<Figure size 640x480 with 1 Axes>"
      ]
     },
     "metadata": {},
     "output_type": "display_data"
    }
   ],
   "source": [
    "import numpy as np\n",
    "import matplotlib.pyplot as plt\n",
    "\n",
    "from Py_FCM import functions\n",
    "\n",
    "# sigmoid function plot\n",
    "result = []\n",
    "x = np.arange(-10., 10., 0.2)\n",
    "for value in x:\n",
    "    result.append(functions.Activation.sigmoid(value))\n",
    "\n",
    "plt.plot(x,result)\n",
    "plt.show()"
   ]
  },
  {
   "cell_type": "markdown",
   "metadata": {},
   "source": [
    "As can be appreciated the *sigmoid* function is in $(0,1)$ range of values. But, the most important thing is that the function value for a $0$ input is a $0.5$ output wish means, in the problem context, that one skill with a $0$ (not provided information about it) evaluation will have at least a $0.5$ final evaluation, a relly noisy skill evaluation."
   ]
  },
  {
   "cell_type": "code",
   "execution_count": 4,
   "metadata": {},
   "outputs": [
    {
     "data": {
      "image/png": "[encoded data removed]",
      "text/plain": [
       "<Figure size 432x288 with 1 Axes>"
      ]
     },
     "metadata": {
      "needs_background": "light"
     },
     "output_type": "display_data"
    }
   ],
   "source": [
    "# sigmoid function plot\n",
    "result = []\n",
    "x = np.arange(-10., 10., 0.2)\n",
    "for value in x:\n",
    "    result.append(functions.Activation.sigmoid_hip(value))\n",
    "\n",
    "plt.plot(x,result)\n",
    "plt.show()"
   ]
  },
  {
   "cell_type": "markdown",
   "metadata": {},
   "source": [
    "On the other hand, the *sigmoid_hip* function shows a more natural behaviour in the problem context and allows work with negative evaluations due to the output value is in $(-1,1)$ range. The *sigmoid_hip* function is selected as the FCM activation function. "
   ]
  },
  {
   "cell_type": "markdown",
   "metadata": {},
   "source": [
    "##### Define the knowledge base"
   ]
  },
  {
   "cell_type": "markdown",
   "metadata": {},
   "source": [
    "Py-FCM allows to load a knowledge base previously defined and structured in a JSON format like shows the following example. The knowledge base presented is a simplified knowledge base that can be used in the current problem and will be used to show the behaviour of the data during the processing pipeline. "
   ]
  },
  {
   "cell_type": "code",
   "execution_count": 5,
   "metadata": {},
   "outputs": [],
   "source": [
    "knowledge_base = '''\n",
    "{\n",
    "  \"iter\": 500,\n",
    "  \"activation_function\": \"sigmoid_hip\",\n",
    "  \"actv_func_params\": {\n",
    "    \"lambda_val\": 1\n",
    "  },\n",
    "  \"memory_influence\": false,\n",
    "  \"result\": \"exited\",\n",
    "  \"concepts\": [\n",
    "    {\n",
    "      \"id\": \"QMAKE\",\n",
    "      \"type\": \"SIMPLE\"\n",
    "    },\n",
    "    {\n",
    "      \"id\": \"QML\",\n",
    "      \"type\": \"SIMPLE\"\n",
    "    },\n",
    "    {\n",
    "      \"id\": \"SHELL\",\n",
    "      \"type\": \"SIMPLE\"\n",
    "    },\n",
    "    {\n",
    "      \"id\": \"BASH\",\n",
    "      \"type\": \"SIMPLE\"\n",
    "    },\n",
    "    {\n",
    "      \"id\": \"C++\",\n",
    "      \"type\": \"SIMPLE\"\n",
    "    },\n",
    "    {\n",
    "      \"id\": \"C\",\n",
    "      \"type\": \"SIMPLE\"\n",
    "    },\n",
    "    {\n",
    "      \"id\": \"RUST\",\n",
    "      \"type\": \"SIMPLE\"\n",
    "    },\n",
    "    {\n",
    "      \"id\": \"RUBY\",\n",
    "      \"type\": \"SIMPLE\"\n",
    "    },\n",
    "    {\n",
    "      \"id\": \"MATLAB\",\n",
    "      \"type\": \"SIMPLE\"\n",
    "    },\n",
    "    {\n",
    "      \"id\": \"R\",\n",
    "      \"type\": \"SIMPLE\"\n",
    "    },\n",
    "    {\n",
    "      \"id\": \"PYTHON\",\n",
    "      \"type\": \"SIMPLE\"\n",
    "    },\n",
    "    {\n",
    "      \"id\": \"JAVA\",\n",
    "      \"type\": \"SIMPLE\"\n",
    "    },\n",
    "    {\n",
    "      \"id\": \"TYPESCRIPT\",\n",
    "      \"type\": \"SIMPLE\"\n",
    "    },\n",
    "    {\n",
    "      \"id\": \"COFFEESCRIPT\",\n",
    "      \"type\": \"SIMPLE\"\n",
    "    },\n",
    "    {\n",
    "      \"id\": \"PHP\",\n",
    "      \"type\": \"SIMPLE\"\n",
    "    },\n",
    "    {\n",
    "      \"id\": \"JAVASCRIPT\",\n",
    "      \"type\": \"SIMPLE\"\n",
    "    },\n",
    "    {\n",
    "      \"id\": \"HTML\",\n",
    "      \"type\": \"SIMPLE\"\n",
    "    },\n",
    "    {\n",
    "      \"id\": \"CSS\",\n",
    "      \"type\": \"SIMPLE\"\n",
    "    },\n",
    "    {\n",
    "      \"id\": \"DOTNET\",\n",
    "      \"type\": \"SIMPLE\"\n",
    "    },\n",
    "    {\n",
    "      \"id\": \"NODE.JS\",\n",
    "      \"type\": \"SIMPLE\"\n",
    "    },\n",
    "    {\n",
    "      \"id\": \"INTENSIVE_DATA_PROCESSING\",\n",
    "      \"type\": \"SIMPLE\"\n",
    "    },\n",
    "    {\n",
    "      \"id\": \"INFRASTRUCTURE\",\n",
    "      \"type\": \"DECISION\"\n",
    "    },\n",
    "    {\n",
    "      \"id\": \"WEB_FRONTEND\",\n",
    "      \"type\": \"DECISION\"\n",
    "    },\n",
    "    {\n",
    "      \"id\": \"WEB_BACKEND\",\n",
    "      \"type\": \"DECISION\"\n",
    "    },\n",
    "    {\n",
    "      \"id\": \"SCRIPTING\",\n",
    "      \"type\": \"DECISION\"\n",
    "    },\n",
    "    {\n",
    "      \"id\": \"QT-FRAMEWORK\",\n",
    "      \"type\": \"DECISION\"\n",
    "    },\n",
    "    {\n",
    "      \"id\": \"NUMERICAL_ANALYSIS\",\n",
    "      \"type\": \"DECISION\"\n",
    "    },\n",
    "    {\n",
    "      \"id\": \"STATISTICS\",\n",
    "      \"type\": \"DECISION\"\n",
    "    }\n",
    "  ],\n",
    "  \"relations\": [\n",
    "    {\n",
    "      \"origin\": \"COFFEESCRIPT\",\n",
    "      \"destiny\": \"NODE.JS\",\n",
    "      \"weight\": 1\n",
    "    },\n",
    "    {\n",
    "      \"origin\": \"R\",\n",
    "      \"destiny\": \"STATISTICS\",\n",
    "      \"weight\": 1\n",
    "    },\n",
    "    {\n",
    "      \"origin\": \"PHP\",\n",
    "      \"destiny\": \"WEB_BACKEND\",\n",
    "      \"weight\": 1\n",
    "    },\n",
    "    {\n",
    "      \"origin\": \"RUBY\",\n",
    "      \"destiny\": \"WEB_BACKEND\",\n",
    "      \"weight\": 0.62\n",
    "    },\n",
    "    {\n",
    "      \"origin\": \"JAVA\",\n",
    "      \"destiny\": \"WEB_BACKEND\",\n",
    "      \"weight\": 0.57\n",
    "    },\n",
    "    {\n",
    "      \"origin\": \"PYTHON\",\n",
    "      \"destiny\": \"WEB_BACKEND\",\n",
    "      \"weight\": 0.32\n",
    "    },\n",
    "    {\n",
    "      \"origin\": \"MATLAB\",\n",
    "      \"destiny\": \"NUMERICAL_ANALYSIS\",\n",
    "      \"weight\": 1\n",
    "    },\n",
    "    {\n",
    "      \"origin\": \"R\",\n",
    "      \"destiny\": \"NUMERICAL_ANALYSIS\",\n",
    "      \"weight\": 0.83\n",
    "    },\n",
    "    {\n",
    "      \"origin\": \"PYTHON\",\n",
    "      \"destiny\": \"NUMERICAL_ANALYSIS\",\n",
    "      \"weight\": 0.1\n",
    "    },\n",
    "    {\n",
    "      \"origin\": \"QML\",\n",
    "      \"destiny\": \"QT-FRAMEWORK\",\n",
    "      \"weight\": 1\n",
    "    },\n",
    "    {\n",
    "      \"origin\": \"QMAKE\",\n",
    "      \"destiny\": \"QT-FRAMEWORK\",\n",
    "      \"weight\": 1\n",
    "    },\n",
    "    {\n",
    "      \"origin\": \"PYTHON\",\n",
    "      \"destiny\": \"SCRIPTING\",\n",
    "      \"weight\": 0.27\n",
    "    },\n",
    "    {\n",
    "      \"origin\": \"SHELL\",\n",
    "      \"destiny\": \"SCRIPTING\",\n",
    "      \"weight\": 1\n",
    "    },\n",
    "    {\n",
    "      \"origin\": \"BASH\",\n",
    "      \"destiny\": \"SCRIPTING\",\n",
    "      \"weight\": 1\n",
    "    },\n",
    "    {\n",
    "      \"origin\": \"SHELL\",\n",
    "      \"destiny\": \"INFRASTRUCTURE\",\n",
    "      \"weight\": 0.77\n",
    "    },\n",
    "    {\n",
    "      \"origin\": \"BASH\",\n",
    "      \"destiny\": \"INFRASTRUCTURE\",\n",
    "      \"weight\": 0.62\n",
    "    },\n",
    "    {\n",
    "      \"origin\": \"COFFEESCRIPT\",\n",
    "      \"destiny\": \"WEB_FRONTEND\",\n",
    "      \"weight\": 1\n",
    "    },\n",
    "    {\n",
    "      \"origin\": \"TYPESCRIPT\",\n",
    "      \"destiny\": \"WEB_FRONTEND\",\n",
    "      \"weight\": 1\n",
    "    },\n",
    "    {\n",
    "      \"origin\": \"JAVASCRIPT\",\n",
    "      \"destiny\": \"WEB_FRONTEND\",\n",
    "      \"weight\": 1\n",
    "    },\n",
    "    {\n",
    "      \"origin\": \"HTML\",\n",
    "      \"destiny\": \"WEB_FRONTEND\",\n",
    "      \"weight\": 0.25\n",
    "    },\n",
    "    {\n",
    "      \"origin\": \"CSS\",\n",
    "      \"destiny\": \"WEB_FRONTEND\",\n",
    "      \"weight\": 0.1\n",
    "    }\n",
    "  ]\n",
    "}\n",
    "'''"
   ]
  },
  {
   "cell_type": "markdown",
   "metadata": {},
   "source": [
    "Load the knowledge base and build the FCM. As we can see the params are defined inside the JSON structure"
   ]
  },
  {
   "cell_type": "code",
   "execution_count": 6,
   "metadata": {
    "scrolled": false
   },
   "outputs": [
    {
     "name": "stdout",
     "output_type": "stream",
     "text": [
      "COFFEESCRIPT -> (1) -> NODE.JS\n",
      "R -> (1) -> STATISTICS\n",
      "PHP -> (1) -> WEB_BACKEND\n",
      "RUBY -> (0.62) -> WEB_BACKEND\n",
      "JAVA -> (0.57) -> WEB_BACKEND\n",
      "PYTHON -> (0.32) -> WEB_BACKEND\n",
      "MATLAB -> (1) -> NUMERICAL_ANALYSIS\n",
      "R -> (0.83) -> NUMERICAL_ANALYSIS\n",
      "PYTHON -> (0.1) -> NUMERICAL_ANALYSIS\n",
      "QML -> (1) -> QT-FRAMEWORK\n",
      "QMAKE -> (1) -> QT-FRAMEWORK\n",
      "PYTHON -> (0.27) -> SCRIPTING\n",
      "SHELL -> (1) -> SCRIPTING\n",
      "BASH -> (1) -> SCRIPTING\n",
      "SHELL -> (0.77) -> INFRASTRUCTURE\n",
      "BASH -> (0.62) -> INFRASTRUCTURE\n",
      "COFFEESCRIPT -> (1) -> WEB_FRONTEND\n",
      "TYPESCRIPT -> (1) -> WEB_FRONTEND\n",
      "JAVASCRIPT -> (1) -> WEB_FRONTEND\n",
      "HTML -> (0.25) -> WEB_FRONTEND\n",
      "CSS -> (0.1) -> WEB_FRONTEND\n",
      "\n"
     ]
    }
   ],
   "source": [
    "from Py_FCM import from_json\n",
    "fcm_kb = from_json(knowledge_base)\n",
    "# show relations loaded\n",
    "print(fcm_kb.to_string())"
   ]
  },
  {
   "cell_type": "markdown",
   "metadata": {},
   "source": [
    "Until this point all required information to make the inference process is complete. Now is required to process each provider data according to the problem steps defined."
   ]
  },
  {
   "cell_type": "markdown",
   "metadata": {},
   "source": [
    "##### Merge FCMs"
   ]
  },
  {
   "cell_type": "markdown",
   "metadata": {},
   "source": [
    "As was mentioned before during the processing pipeline is required to merge different FCM according to the current process step. To carry out this Py-FCM provide a *join_maps* function with this purpose. The function has several parameters that must be defined to avoid noise in the final result.\n",
    "\n",
    "**Parametters description**\n",
    "\n",
    "* node_strategy: Strategy to join all maps nodes\n",
    "  * union: the new FuzzyCognitiveMap will have the set union of nodes in map_set (default)\n",
    "  * intersection: the new FuzzyCognitiveMap will have the set intersection of nodes in  map_set\n",
    "* value_strategy: Strategy to define the initial state of map nodes\n",
    "  * highest: Select the highest node value as initial node state\n",
    "  * lowest: Select the lowest node value as initial node state\n",
    "  * average: Select the average of node values as initial node state (default)\n",
    "  * weighted_average: Select the weighted_average of node values based on FCMs weight as initial node state (BETA)\n",
    "* relation_strategy: Strategy to define the value for repeated relations weight in map topology\n",
    "  * highest: Select the highest relation value as new relation value\n",
    "  * lowest: Select the lowest relation value as new relation value\n",
    "  * average: Select the average of relations values as new relation value (default)\n",
    "* ignore_zeros: Ignore zero evaluated concepts in value_strategy selected (default False)\n",
    "\n",
    "Since all the maps are equal there is no output difference between *node_strategy* and *relation_strategy* used. To provide a fair evaluation process is proposed to use *average* as *value_strategy*. Also, *ignore_zeros* must be set to **True** because when the user has, for instance, seven projects to merge and only one have code in JAVA with evaluation $v=1$, the JAVA final evaluation for that provider will be (using *average* as *value_strategy*) $final=v/7$. This happened because the $0$ data is used in the average formula from projects without JAVA code, adding noise in the final result. "
   ]
  },
  {
   "cell_type": "markdown",
   "metadata": {
    "pycharm": {
     "name": "#%% md\n"
    }
   },
   "source": [
    "#### Process GitHub provider"
   ]
  },
  {
   "cell_type": "markdown",
   "metadata": {},
   "source": [
    "To process the GitHub data is required to load the input JSON and start the process using that structure"
   ]
  },
  {
   "cell_type": "code",
   "execution_count": 7,
   "metadata": {
    "pycharm": {
     "name": "#%%\n"
    }
   },
   "outputs": [],
   "source": [
    "import json\n",
    "structured_data = json.loads(input_json)\n",
    "for profile in structured_data['profiles']:\n",
    "    if profile['provider'] == 'GITHUB':\n",
    "        git_hub_data = profile"
   ]
  },
  {
   "cell_type": "markdown",
   "metadata": {
    "pycharm": {
     "name": "#%% md\n"
    }
   },
   "source": [
    "##### Name Homogenization"
   ]
  },
  {
   "cell_type": "markdown",
   "metadata": {},
   "source": [
    "The process is carried out to transform the input skill name to a defined name on the map. Currently only set to upper case the skill name, but this process should be updated."
   ]
  },
  {
   "cell_type": "code",
   "execution_count": 8,
   "metadata": {
    "pycharm": {
     "name": "#%%\n"
    }
   },
   "outputs": [],
   "source": [
    "for skill in git_hub_data['skills']:\n",
    "    skill['name'] = str(skill['name']).upper()"
   ]
  },
  {
   "cell_type": "markdown",
   "metadata": {
    "pycharm": {
     "name": "#%% md\n"
    }
   },
   "source": [
    "##### Input value determination"
   ]
  },
  {
   "cell_type": "markdown",
   "metadata": {},
   "source": [
    "According to user contributions to the project is required to estimate the real user skills value for each project. So, is required to find the real user contribution using the relation between userAdditions and totalAdditions."
   ]
  },
  {
   "cell_type": "code",
   "execution_count": 9,
   "metadata": {},
   "outputs": [
    {
     "name": "stdout",
     "output_type": "stream",
     "text": [
      "JAVA 0.5907258064516129\n",
      "JAVASCRIPT 0.7604293047130192\n",
      "HTML 0.166651112148079\n",
      "CSS 0.07291958313890184\n"
     ]
    }
   ],
   "source": [
    "from collections import defaultdict\n",
    "projects_contribution = {}\n",
    "for repository in git_hub_data['repositories']:\n",
    "    if repository['userAdditions'] != 0:\n",
    "        projects_contribution[repository['id']] = repository['userAdditions'] / repository['totalAdditions']\n",
    "    else:\n",
    "        projects_contribution[repository['id']] = 1\n",
    "\n",
    "total_project_bytes = defaultdict(int)\n",
    "for skill in git_hub_data['skills']:\n",
    "    total_project_bytes[skill['repositoryId']] += skill['value']\n",
    "\n",
    "for skill in git_hub_data['skills']:\n",
    "    # store the user contriburion factor in that skill for the project with id 'repositoryId'\n",
    "    skill['estimated_contribution'] = ((skill['value'] * projects_contribution[skill['repositoryId']]) /\n",
    "                                     total_project_bytes[skill['repositoryId']])\n",
    "    print(skill['name'], skill['estimated_contribution'])"
   ]
  },
  {
   "cell_type": "markdown",
   "metadata": {},
   "source": [
    "##### Vaue Normalization"
   ]
  },
  {
   "cell_type": "markdown",
   "metadata": {
    "pycharm": {
     "name": "#%% md\n"
    }
   },
   "source": [
    "With the user contributions estimated, is required to normalize the input data to the algorithm. Since GitHub represent the skill vale through the number of bytes of code on some language this value can be very high, so there is a point where no matter how great is the number of bytes of code did not represent the user skill any more. For that reason is required to create a constant to define which amount of bytes of code are required to consider a project relevant. Using that value the lambda value for sigmoid function can be estimated also normalizing the input value for the algorithm. The values defined are a proposal and can be updated according to algorithm expected behaviour. "
   ]
  },
  {
   "cell_type": "code",
   "execution_count": 10,
   "metadata": {
    "pycharm": {
     "name": "#%%\n"
    }
   },
   "outputs": [],
   "source": [
    "from Py_FCM import functions\n",
    "MINIMUM_BYTES_OF_CODE_TO_CONSIDER_RELEVANT_PROJECT = 30000\n",
    "# this means that: when an user reach an amount of bytes of code higer than 5 * 30000 will recive the highest evaluation\n",
    "SRC_LAMBDA_VALUE = functions.Activation.sigmoid_hip_lambda(5 * MINIMUM_BYTES_OF_CODE_TO_CONSIDER_RELEVANT_PROJECT, 0.99)\n"
   ]
  },
  {
   "cell_type": "markdown",
   "metadata": {},
   "source": [
    "##### Skill evaluation and Inference "
   ]
  },
  {
   "cell_type": "markdown",
   "metadata": {},
   "source": [
    "To execute the evaluation process and skills inference is required to carry out the process by each project as was mentioned before."
   ]
  },
  {
   "cell_type": "code",
   "execution_count": 11,
   "metadata": {
    "pycharm": {
     "name": "#%%\n"
    }
   },
   "outputs": [
    {
     "name": "stdout",
     "output_type": "stream",
     "text": [
      "JAVA 175800.0 0.9959645031945682\n",
      "{'QMAKE': 0.0, 'QML': 0.0, 'SHELL': 0.0, 'BASH': 0.0, 'C++': 0.0, 'C': 0.0, 'RUST': 0.0, 'RUBY': 0.0, 'MATLAB': 0.0, 'R': 0.0, 'PYTHON': 0.0, 'JAVA': 0.9959645031945682, 'TYPESCRIPT': 0.0, 'COFFEESCRIPT': 0.0, 'PHP': 0.0, 'JAVASCRIPT': 0.0, 'HTML': 0.0, 'CSS': 0.0, 'DOTNET': 0.0, 'NODE.JS': 0.0, 'INTENSIVE_DATA_PROCESSING': 0.0, 'INFRASTRUCTURE': 0.0, 'WEB_FRONTEND': 0.0, 'WEB_BACKEND': 0.276464478226083, 'SCRIPTING': 0.0, 'QT-FRAMEWORK': 0.0, 'NUMERICAL_ANALYSIS': 0.0, 'STATISTICS': 0.0}\n",
      "JAVASCRIPT 18587.93392440504 0.31669735423861967\n",
      "HTML 892.7500077772593 0.015750690384830766\n",
      "CSS 170.92350287758592 0.003015824864909509\n",
      "{'QMAKE': 0.0, 'QML': 0.0, 'SHELL': 0.0, 'BASH': 0.0, 'C++': 0.0, 'C': 0.0, 'RUST': 0.0, 'RUBY': 0.0, 'MATLAB': 0.0, 'R': 0.0, 'PYTHON': 0.0, 'JAVA': 0.0, 'TYPESCRIPT': 0.0, 'COFFEESCRIPT': 0.0, 'PHP': 0.0, 'JAVASCRIPT': 0.31669735423861967, 'HTML': 0.015750690384830766, 'CSS': 0.003015824864909509, 'DOTNET': 0.0, 'NODE.JS': 0.0, 'INTENSIVE_DATA_PROCESSING': 0.0, 'INFRASTRUCTURE': 0.0, 'WEB_FRONTEND': 0.15910498808700912, 'WEB_BACKEND': 0.0, 'SCRIPTING': 0.0, 'QT-FRAMEWORK': 0.0, 'NUMERICAL_ANALYSIS': 0.0, 'STATISTICS': 0.0}\n"
     ]
    }
   ],
   "source": [
    "# load the knowledge base\n",
    "def load_kb():\n",
    "    return from_json(knowledge_base)\n",
    "\n",
    "projects_fcm = []\n",
    "skills_relation = defaultdict(list)\n",
    "\n",
    "# group skills by repository (project)\n",
    "for skill in git_hub_data['skills']:\n",
    "    skills_relation[skill['repositoryId']].append(skill)\n",
    "    \n",
    "for repo_id in skills_relation:\n",
    "    # create a knowledge base by project\n",
    "    projects_fcm.append(load_kb())\n",
    "    # init all found concepts (skills) on the FCM \n",
    "    for skill in skills_relation[repo_id]:\n",
    "        skill_value = skill['estimated_contribution'] * skill['value']\n",
    "        # find the scaled skill values using previously defined parameter value\n",
    "        scaled_skill_value = functions.Activation.sigmoid_hip(skill_value, SRC_LAMBDA_VALUE)\n",
    "        # init the concept value\n",
    "        print(skill['name'], skill_value, scaled_skill_value)\n",
    "        projects_fcm[-1].init_concept(skill['name'], scaled_skill_value, required_presence=False)\n",
    "    # run the inference process for current FCM\n",
    "    projects_fcm[-1].run_inference()\n",
    "    print(projects_fcm[-1].get_final_state(nodes_type='any'))"
   ]
  },
  {
   "cell_type": "markdown",
   "metadata": {},
   "source": [
    "##### Result merging"
   ]
  },
  {
   "cell_type": "markdown",
   "metadata": {},
   "source": [
    "After the inference process is finished then is required to merge the results from each project in a single structure. "
   ]
  },
  {
   "cell_type": "code",
   "execution_count": 12,
   "metadata": {
    "pycharm": {
     "name": "#%%\n"
    }
   },
   "outputs": [],
   "source": [
    "from Py_FCM import join_maps\n",
    "github_fcm = join_maps(projects_fcm, ignore_zeros=True)\n"
   ]
  },
  {
   "cell_type": "markdown",
   "metadata": {},
   "source": [
    "##### Final evaluation"
   ]
  },
  {
   "cell_type": "markdown",
   "metadata": {},
   "source": [
    "Finally is required to run the inference process again to provide a final evaluation for all skills obtained from GitHub."
   ]
  },
  {
   "cell_type": "code",
   "execution_count": 13,
   "metadata": {
    "pycharm": {
     "name": "#%%\n"
    }
   },
   "outputs": [
    {
     "name": "stdout",
     "output_type": "stream",
     "text": [
      "{'COFFEESCRIPT': 0.0, 'C': 0.0, 'RUST': 0.0, 'PHP': 0.0, 'R': 0.0, 'DOTNET': 0.0, 'SCRIPTING': 0.0, 'JAVASCRIPT': 0.31669735423861967, 'NUMERICAL_ANALYSIS': 0.0, 'QT-FRAMEWORK': 0.0, 'INFRASTRUCTURE': 0.0, 'CSS': 0.003015824864909509, 'INTENSIVE_DATA_PROCESSING': 0.0, 'BASH': 0.0, 'QMAKE': 0.0, 'TYPESCRIPT': 0.0, 'STATISTICS': 0.0, 'SHELL': 0.0, 'WEB_BACKEND': 0.5136679737182133, 'WEB_FRONTEND': 0.15910498808700912, 'QML': 0.0, 'HTML': 0.015750690384830766, 'JAVA': 0.9959645031945682, 'NODE.JS': 0.0, 'RUBY': 0.0, 'C++': 0.0, 'MATLAB': 0.0, 'PYTHON': 0.0}\n"
     ]
    }
   ],
   "source": [
    "github_fcm.set_map_decision_function(\"exited\")\n",
    "github_fcm.run_inference()\n",
    "result = github_fcm.get_final_state(nodes_type='any')\n",
    "print(result)"
   ]
  }
 ],
 "metadata": {
  "kernelspec": {
   "display_name": "Python 3",
   "language": "python",
   "name": "python3"
  },
  "language_info": {
   "codemirror_mode": {
    "name": "ipython",
    "version": 3
   },
   "file_extension": ".py",
   "mimetype": "text/x-python",
   "name": "python",
   "nbconvert_exporter": "python",
   "pygments_lexer": "ipython3",
   "version": "3.7.3"
  },
  "pycharm": {
   "stem_cell": {
    "cell_type": "raw",
    "metadata": {
     "collapsed": false
    },
    "source": []
   }
  }
 },
 "nbformat": 4,
 "nbformat_minor": 2
}
