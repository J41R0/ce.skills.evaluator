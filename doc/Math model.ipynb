{
 "cells": [
  {
   "cell_type": "markdown",
   "metadata": {},
   "source": [
    "# Skills evaluator math model"
   ]
  },
  {
   "cell_type": "markdown",
   "metadata": {},
   "source": [
    "## Problem description"
   ]
  },
  {
   "cell_type": "markdown",
   "metadata": {},
   "source": [
    "Is required to provide the engineer's skills evaluation for **Cuban Engineer** platform users. The skills evaluation process use the data extracted from **Cuban Engineer** providers to use only verified data sources. Since all the sources provide custom skills measures is required to process all providers data, join repeated skills data, summarize the output in a single score per skill and infer skills nonexplicitly provided."
   ]
  },
  {
   "cell_type": "markdown",
   "metadata": {},
   "source": [
    "### Objectives"
   ]
  },
  {
   "cell_type": "markdown",
   "metadata": {},
   "source": [
    "* Provide a fair engineer skills evaluation \n",
    "* Preprocess input data according to each provider API \n",
    "* Build a summarized evaluation model with all engineer skills extracted from different providers\n",
    "* Infer verified but non-explicitly provided skills from the data"
   ]
  },
  {
   "cell_type": "markdown",
   "metadata": {},
   "source": [
    "### Hypothesis"
   ]
  },
  {
   "cell_type": "markdown",
   "metadata": {},
   "source": [
    "All **Cuban Engineer** users are mainly programming related professionals, so they must know some programming language, a set of related technologies and they'll have published pieces of information about his skills. "
   ]
  },
  {
   "cell_type": "markdown",
   "metadata": {},
   "source": [
    "### Objects description and acquired data"
   ]
  },
  {
   "cell_type": "markdown",
   "metadata": {},
   "source": [
    "For the evaluation process the **Objects** are the Cuban Engineer user's data from each provider.\n",
    "\n",
    "The current providers are: \n",
    "* GitHub\n",
    "* GitLab\n",
    "* StackExchange\n",
    "\n",
    "#### GitHub\n",
    "Is a VCS for developers that store code statistics and user's collaborative behaviour.\n",
    "\n",
    "##### Provided data\n",
    "* **User followers**: User followers count. An integer value.\n",
    "* **A set of repositories**: Each repository have a set of code statistics .\n",
    "* **Repository ID**: An identifyer.\n",
    "* **Repository Forked**: Define if the repository is forked or not. Boolean value.\n",
    "* **Repository Contributors**: Amount of project contributors. An integer value.\n",
    "* **Repository Stars**: Amount of project stars. An integer value.\n",
    "* **Repository Forks**: Amount of project forks. An integer value.\n",
    "* **Repository Views**: Amount of project Views. An integer value.\n",
    "* **Repository total commits**: Amount of project commits. An integer value.\n",
    "* **Repository user commits**: Amount of user commits. An integer value.\n",
    "* **Repository total addtitions**: Amount of bytes of code added to the project. An integer value.\n",
    "* **Repository user additions**: Amount of bytes of code added by the user. An integer value.\n",
    "* **A set of skills**: Programming languages or scripts used in each reposotiry named Skill in this context.\n",
    "* **Skill repository ID**: A repository identifyer reference.\n",
    "* **Skill name**: Programming language or script used. A string value.\n",
    "* **Skill value**: Amount of bytes of code for that programming language or script used. An integer value.\n",
    "\n",
    "#### GitLab\n",
    "Is a VCS for developers that store code statistics and user's collaborative behaviour \n",
    "\n",
    "##### Provided data\n",
    "* **User followers**: User followers count. An integer value.\n",
    "* **A set of repositories**: Each repository have a set of code statistics .\n",
    "* **Repository ID**: An identifyer.\n",
    "* **Repository Forked**: Define if the repository is forked or not. Boolean value.\n",
    "* **Repository Contributors**: Amount of project contributors. An integer value.\n",
    "* **Repository Stars**: Amount of project stars. An integer value.\n",
    "* **Repository Forks**: Amount of project forks. An integer value.\n",
    "* **Repository Views**: Amount of project Views. An integer value.\n",
    "* **Repository total commits**: Amount of project commits. An integer value.\n",
    "* **Repository user commits**: Amount of user commits. An integer value.\n",
    "* **A set of skills**: Programming languages or scripts used in each reposotiry named Skill in this context.\n",
    "* **Skill repository ID**: A repository identifyer reference.\n",
    "* **Skill name**: Programming language or script used. A string value.\n",
    "* **Skill value**: Programming language or script percent of usage in the project. A real value.\n",
    "\n",
    "#### StackExchange\n",
    "Is a Questions-Answers platform to share knowledge between the users\n",
    "\n",
    "##### Provided data\n",
    "-> TODO\n",
    "* **User reputation**: \n",
    "* **A set of skills**:\n",
    "* **Skill name**: \n",
    "* **Skill value**: "
   ]
  },
  {
   "cell_type": "markdown",
   "metadata": {},
   "source": [
    "### Expected results and evaluation"
   ]
  },
  {
   "cell_type": "markdown",
   "metadata": {},
   "source": [
    "The output is a set of evaluated skills for each Cuban Engineer user that follows the next requirements: \n",
    "\n",
    "* A evaluated skill is unique for the user. \n",
    "* The skill value represent the user final score for all providers that provide information.\n",
    "* The skills value output must be scaled to user desired range of values \n",
    "\n",
    "The evaluator result must be tested with a data set extracted from know users of the platform. The test set will not provide an evaluation value, instead will sort the engineers according to several skills and an overall evaluation. The evaluator result should have a similar output when the values are sorted in the same way that the test set. This process will define the evaluation algorithm quality."
   ]
  },
  {
   "cell_type": "markdown",
   "metadata": {},
   "source": [
    "## Problem formalization"
   ]
  },
  {
   "cell_type": "markdown",
   "metadata": {},
   "source": [
    "### Objectives formalization"
   ]
  },
  {
   "cell_type": "markdown",
   "metadata": {},
   "source": [
    "The algorithm must use the data from different providers to estimate how good is an engineer in a set of skills explicit or not in provided data. To achieve this goal is required several processing steps: \n",
    "\n",
    "* **Input value determination**: The input value definition is required for each provider. Could be a single value (e.g. StackExchange) or a linear combination of values (e.g. GitHub).\n",
    "* **Vaue Normalization**: Transform the skill value from different providers to the same numerical scale to allow a more precise comparison between input values.\n",
    "* **Name Homogenization**: Transform the skills name to a single structure due to different providers may name the same skill in different ways (e.g. 'C++' and 'Cpp')\n",
    "* **Skill Inference**: Using the data provided infer non-explicit skills and their evaluation keeping in mind that new skills must be valid, so concepts like probability or correlation must not be used in the inference process. \n",
    "* **Result merging**: Since some providers have a project structured data, is required to process and summarize the data of each project to achieve a final provider evaluation. The same is required to define user final skill evaluation using the result of the different providers. Is required to define the merge process between projects and providers to achieve a fair and final result."
   ]
  },
  {
   "cell_type": "markdown",
   "metadata": {},
   "source": [
    "### Data representation"
   ]
  },
  {
   "cell_type": "markdown",
   "metadata": {},
   "source": [
    "The input data for each user is structured in a JSON format like the following example:"
   ]
  },
  {
   "cell_type": "code",
   "execution_count": 2,
   "metadata": {},
   "outputs": [],
   "source": [
    "input_json = \"\"\"\n",
    "    {\n",
    "      \"name\": \"Minnie\",\n",
    "      \"nick\": \"Minnie\",\n",
    "      \"email\": \"Minnie@disney.com\",\n",
    "      \"profiles\": [\n",
    "        {\n",
    "          \"provider\": \"STACK_EXCHANGE\",\n",
    "          \"stats\": {\n",
    "            \"reputation\": \"17\"\n",
    "          },\n",
    "          \"skills\": [\n",
    "            {\n",
    "              \"repositoryId\": 0,\n",
    "              \"name\": \"angular\",\n",
    "              \"value\": 2.0\n",
    "            },\n",
    "            {\n",
    "              \"repositoryId\": 0,\n",
    "              \"name\": \"unit-testing\",\n",
    "              \"value\": 2.0\n",
    "            },\n",
    "            {\n",
    "              \"repositoryId\": 0,\n",
    "              \"name\": \"chromium\",\n",
    "              \"value\": 1.0\n",
    "            },\n",
    "            {\n",
    "              \"repositoryId\": 0,\n",
    "              \"name\": \"docker\",\n",
    "              \"value\": 1.0\n",
    "            },\n",
    "            {\n",
    "              \"repositoryId\": 0,\n",
    "              \"name\": \"gitlab\",\n",
    "              \"value\": 1.0\n",
    "            },\n",
    "            {\n",
    "              \"repositoryId\": 0,\n",
    "              \"name\": \"highcharts\",\n",
    "              \"value\": 1.0\n",
    "            },\n",
    "            {\n",
    "              \"repositoryId\": 0,\n",
    "              \"name\": \"intellij-idea\",\n",
    "              \"value\": 1.0\n",
    "            },\n",
    "            {\n",
    "              \"repositoryId\": 0,\n",
    "              \"name\": \"java\",\n",
    "              \"value\": 1.0\n",
    "            },\n",
    "            {\n",
    "              \"repositoryId\": 0,\n",
    "              \"name\": \"javascript\",\n",
    "              \"value\": 1.0\n",
    "            },\n",
    "            {\n",
    "              \"repositoryId\": 0,\n",
    "              \"name\": \"matplotlib\",\n",
    "              \"value\": 1.0\n",
    "            },\n",
    "            {\n",
    "              \"repositoryId\": 0,\n",
    "              \"name\": \"python\",\n",
    "              \"value\": 1.0\n",
    "            },\n",
    "            {\n",
    "              \"repositoryId\": 0,\n",
    "              \"name\": \"rest\",\n",
    "              \"value\": 1.0\n",
    "            }\n",
    "          ]\n",
    "        },\n",
    "        {\n",
    "          \"provider\": \"GITHUB\",\n",
    "          \"stats\": {\n",
    "            \"followers\": \"2\"\n",
    "          },\n",
    "          \"repositories\": [\n",
    "            {\n",
    "              \"id\": 1,\n",
    "              \"isFork\": false,\n",
    "              \"contributors\": 0,\n",
    "              \"totalCommits\": 30,\n",
    "              \"userCommits\": 30,\n",
    "              \"forks\": 0,\n",
    "              \"stars\": 0,\n",
    "              \"views\": 0,\n",
    "              \"userAdditions\": 2976,\n",
    "              \"totalAdditions\": 2976\n",
    "            }\n",
    "          ],\n",
    "          \"skills\": [\n",
    "            {\n",
    "              \"repositoryId\": 1,\n",
    "              \"name\": \"Java\",\n",
    "              \"value\": 2976.0\n",
    "            }\n",
    "          ]\n",
    "        },\n",
    "        {\n",
    "          \"provider\": \"GITLAB\",\n",
    "          \"stats\": {},\n",
    "          \"repositories\": [\n",
    "            {\n",
    "              \"id\": 1,\n",
    "              \"isFork\": false,\n",
    "              \"contributors\": 0,\n",
    "              \"totalCommits\": 11,\n",
    "              \"userCommits\": 11,\n",
    "              \"forks\": 0,\n",
    "              \"stars\": 0,\n",
    "              \"views\": 0\n",
    "            },\n",
    "            {\n",
    "              \"id\": 2,\n",
    "              \"isFork\": false,\n",
    "              \"contributors\": 0,\n",
    "              \"totalCommits\": 25,\n",
    "              \"userCommits\": 20,\n",
    "              \"forks\": 0,\n",
    "              \"stars\": 0,\n",
    "              \"views\": 0\n",
    "            },\n",
    "            {\n",
    "              \"id\": 3,\n",
    "              \"isFork\": false,\n",
    "              \"contributors\": 0,\n",
    "              \"totalCommits\": 0,\n",
    "              \"userCommits\": 0,\n",
    "              \"forks\": 0,\n",
    "              \"stars\": 0,\n",
    "              \"views\": 0\n",
    "            }\n",
    "          ],\n",
    "          \"skills\": [\n",
    "            {\n",
    "              \"repositoryId\": 1,\n",
    "              \"name\": \"Java\",\n",
    "              \"value\": 96.55\n",
    "            },\n",
    "            {\n",
    "              \"repositoryId\": 1,\n",
    "              \"name\": \"HTML\",\n",
    "              \"value\": 3.45\n",
    "            },\n",
    "            {\n",
    "              \"repositoryId\": 2,\n",
    "              \"name\": \"Java\",\n",
    "              \"value\": 100.0\n",
    "            }\n",
    "          ]\n",
    "        }\n",
    "      ]\n",
    "    }\n",
    "\"\"\"\n"
   ]
  },
  {
   "cell_type": "markdown",
   "metadata": {},
   "source": [
    "The JSON format follows the data description provided before. "
   ]
  },
  {
   "cell_type": "markdown",
   "metadata": {},
   "source": [
    "### Data properties"
   ]
  },
  {
   "cell_type": "markdown",
   "metadata": {},
   "source": [
    "As can be appreciated in the previous section, each provider has distinct data that must be processed independently. For that reason is required to describe the data properties for each provider. Since each provider data is described in a previous section, this section will be focused on the main differences between them.\n",
    "\n",
    "#### GitHub\n",
    "The data describe user code stats related to a ser of projects. Also, each project has a set of related skills. Following the meaning of most important fields in the problem context are presented:\n",
    "\n",
    "* **User followers**: A good programmer should have more followers but is not an assurance.\n",
    "* **Repository Forked**: A forked project means that the main ideas of the project are not from the user and could be used to reduce the relevance of the project for the user.\n",
    "* **Repository Contributors**: A project with more contributors means that is teamwork project, but  user contributions are reduced due to project commits are not only from the user\n",
    "* **Repository Stars**: Usually, a good project is rated by other users increasing project relevance.\n",
    "* **Repository Forks**: A project with interesting ideas is usually forked by other users increasing project relevance\n",
    "* **Repository Views**: Users interested in the project behaviour and evolution use the views to keep track of it. \n",
    "* **Repository user commits**: A well-worked project should have more commits from the user. This value can be used to get an idea about user contributions to the project.\n",
    "* **Repository user additions**: Measure the amount of bytes of conde added by the user.\n",
    "\n",
    "All described repository fields can be used to define the relevance of the project and user contributions to it.\n",
    "\n",
    "#### GitLab\n",
    "The data that describes GitLab is very similar to GitHub. The main differences are that GitLab does not provide user and total additions and the value of the skills is the percent of usage in the project.\n",
    "\n",
    "#### StackExchange\n",
    "-> TODO"
   ]
  },
  {
   "cell_type": "markdown",
   "metadata": {},
   "source": [
    "## Solution strategy"
   ]
  },
  {
   "cell_type": "markdown",
   "metadata": {},
   "source": [
    "Based on the problem provided description is required to define a solution model. The problem has the following information levels in the evaluation process:\n",
    "\n",
    "* **Project**: The data about a project for project structured providers\n",
    "* **Provider**: Provider data or projects summarization for project structured providers\n",
    "* **User**: The user-level summarizes the data from each provider to achieve a final result\n",
    "\n",
    "To provide an accurate solution is required to process the data in a bottom-up data flow making a partial evaluation until the final (user) level."
   ]
  },
  {
   "cell_type": "markdown",
   "metadata": {},
   "source": [
    "### Problem formalization"
   ]
  },
  {
   "cell_type": "markdown",
   "metadata": {},
   "source": [
    "In **Cuban Engineer** platform is required to find non-explicit skills and evaluate all of them using the data from stored providers as input data. Since **Cuban Engineer** platform have not a previously evaluated set of users a supervised learning approach can not be used. Also, all the system data is required to be updated new skills and relations between them change frequently and the relations between explicit and non-explicit skills are not contained in a centralized data source. \n",
    "\n",
    "*To provide a solution to the problem is decided to use a knowledge-based approach where the skills and their relations are represented in a knowledge base that can be used to evaluate and make skills inference.* \n",
    "\n",
    "To represent the knowledge exist several structures like rules, frames and networks. The main drawback about rules and frames is related to the knowledge base size, due a big knowledge base is very complicated to maintain and when a knowledge base achieve more than 100 rules is recommended to change the knowledge representation structure. In this problem, the complexity of the knowledge base is unknow apriori. \n",
    "\n",
    "The network's approach, also named graph approach, is easier to maintain due is not required to know and understand the whole system behaviour and the desired behaviour can be achieved updating a sub-graph in the model. For this approach two of the most relevant methods are the Bayesian Networks and the Fuzzy Cognitive Maps. The Bayesian Networks are represented as Trees, so a common base concept that is related with two other concepts must be repeated in the structure making the knowledge base size bigger, also the concept represented in the edges is probability and in current problem context, the skill knowledge assurance is required and not the probability that the user knows something. On the other hand, the Fuzzy Cognitive Maps is a digraph structured knowledge base that represents causality and the knowledge base maintaining process is more simple than other structures. \n",
    "\n",
    "*For this problem Fuzzy Cognitive Maps will be used to represent the knowledge base and solve the problem described*\n",
    "\n",
    "#### Fuzzy Cognitive Maps (FCM)\n",
    "\n",
    "Mathematically it can be defined as the 4-tuple $(C,W,A,f)$, where:\n",
    "\n",
    "* $C=(c_1,c_2,c_3, ~...~ c_n)$ is the set of nodes of the graph\n",
    "* $W:(c_i,c_j)\\to w_{ij}$ is the function that determines the value of the causal relation between the nodes $c_i$ and $c_j$\n",
    "* $A:(c_i,t) \\to A^t_i, A \\in R$ is the function used to determine the activation degree of each system concept over time $t=(1,2,3, ~...~T)$\n",
    "* $f \\in [-1, 1]$ is the function used to limit each concept activation range in a desired interval $[-1, 1]$\n",
    "\n",
    "Structurally a FCM can be represented as a digraph where the value of the causal relation between two nodes $c_i$ and $c_j$ is represented in component $w_{ij}$ that belongs to weight matrix $W$. \n",
    "\n",
    "The FCM's inference process is the propagation of each node weight to his neighbours over time. This process may be endless because the FCM topology may contain loops like a recurrent neural network. For this reason, two stop criteria are defined, a maximum number of iterations $T$ and a minimum difference between nodes vector $\\alpha$ in the times $t$ y $t+1$. The inference process is summarized in the following equation. \n",
    "$$$$\n",
    "$$A^{(t+1)}_i = f\\left(\\sum_{j=1}^N w_{ij}*A^{(t)}_j \\right) , i \\neq j$$\n",
    "\n",
    "In the current problem context, the FCM will represent the skills as the map concepts and the relations between skills as the edges. A verified skill value will be set and transformed to corresponding concept initial activation value. After all initial values are set the inference process will be executed until the stop criteria are fulfilled. Finally, the greatest activation value of each node is selected as the evaluation for the user skills. The nodes with an activation value greater than zero are the user final skills and corresponding activation value will be the skill evaluation.\n"
   ]
  },
  {
   "cell_type": "markdown",
   "metadata": {},
   "source": []
  }
 ],
 "metadata": {
  "kernelspec": {
   "display_name": "Python 3",
   "language": "python",
   "name": "python3"
  },
  "language_info": {
   "codemirror_mode": {
    "name": "ipython",
    "version": 3
   },
   "file_extension": ".py",
   "mimetype": "text/x-python",
   "name": "python",
   "nbconvert_exporter": "python",
   "pygments_lexer": "ipython3",
   "version": "3.7.3"
  }
 },
 "nbformat": 4,
 "nbformat_minor": 2
}
